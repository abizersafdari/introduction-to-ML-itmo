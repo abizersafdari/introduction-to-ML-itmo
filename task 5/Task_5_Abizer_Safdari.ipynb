{
  "nbformat": 4,
  "nbformat_minor": 0,
  "metadata": {
    "colab": {
      "name": "Task_5_Abizer_Safdari.ipynb",
      "provenance": [],
      "collapsed_sections": []
    },
    "kernelspec": {
      "name": "python3",
      "display_name": "Python 3"
    }
  },
  "cells": [
    {
      "cell_type": "markdown",
      "metadata": {
        "id": "92ns_X8X21ym"
      },
      "source": [
        "#task 5\r\n",
        "1. Download Alice in Wonderland by Lewis Carroll from Project Gutenberg's website http://www.gutenberg.org/files/11/11-0.txt\r\n",
        "2.\tPerform any necessary preprocessing on the text, including converting to lower case, removing stop words, numbers / non-alphabetic characters, lemmatization.\r\n",
        "3.\tFind Top 10 most important (for example, in terms of TF-IDF metric) words from each chapter in the text (not \"Alice\"); how would you name each chapter according to the identified tokens?\r\n",
        "4.\tFind the Top 10 most used verbs in sentences with Alice. What does Alice do most often?\r\n",
        "5.\t*(not necessary) Find Top 100 most used verbs in sentences with Alice. Get word vectors using a pre-trained word2vec model and visualize them. Compare the words using embeddings. \r\n"
      ]
    },
    {
      "cell_type": "code",
      "metadata": {
        "colab": {
          "base_uri": "https://localhost:8080/"
        },
        "id": "4jx3EBTd1n51",
        "outputId": "3ee642ed-c0b0-4638-9353-366dac00c2cb"
      },
      "source": [
        "import numpy as np\r\n",
        "import pandas as pd\r\n",
        "import re\r\n",
        "import sys\r\n",
        "import io\r\n",
        "import urllib.request\r\n",
        "import nltk\r\n",
        "nltk.download(\"stopwords\")\r\n",
        "from nltk.tokenize import WhitespaceTokenizer\r\n",
        "from nltk.tokenize import TreebankWordTokenizer\r\n",
        "from nltk.corpus import stopwords\r\n",
        "from nltk.stem import WordNetLemmatizer\r\n",
        "from nltk.stem import PorterStemmer\r\n",
        "\r\n",
        "from sklearn.feature_extraction.text import TfidfVectorizer\r\n",
        "from nltk import FreqDist\r\n",
        "import gensim"
      ],
      "execution_count": null,
      "outputs": [
        {
          "output_type": "stream",
          "text": [
            "[nltk_data] Downloading package stopwords to /root/nltk_data...\n",
            "[nltk_data]   Package stopwords is already up-to-date!\n"
          ],
          "name": "stdout"
        }
      ]
    },
    {
      "cell_type": "markdown",
      "metadata": {
        "id": "VF6IK0wX3M73"
      },
      "source": [
        "Download the text Alice in Wonderland"
      ]
    },
    {
      "cell_type": "code",
      "metadata": {
        "id": "09JwZZm33Huh"
      },
      "source": [
        "Data=\"http://www.gutenberg.org/files/11/11-0.txt\""
      ],
      "execution_count": null,
      "outputs": []
    },
    {
      "cell_type": "markdown",
      "metadata": {
        "id": "3fteHr8x3fy_"
      },
      "source": [
        "Perform any necessary preprocessing on the text, including converting to lower case, removing stop words, numbers / non-alphabetic characters, lemmatization."
      ]
    },
    {
      "cell_type": "code",
      "metadata": {
        "colab": {
          "base_uri": "https://localhost:8080/",
          "height": 137
        },
        "id": "jnJHcZGV9ydG",
        "outputId": "f6098e14-b9b7-474f-ca36-0f83b98f32e7"
      },
      "source": [
        "opener = urllib.request.URLopener({})\n",
        "resource = opener.open(Data)\n",
        "charset = resource.headers.get_content_charset()\n",
        "print(\"Charset\", charset)\n",
        "text1 = resource.read()\n",
        "\n",
        "if charset:\n",
        "  text1 = text1.decode(resource.headers.get_content_charset())\n",
        "else:\n",
        "  text1 = text1.decode(\"utf-8\")\n",
        "text1[:1000]"
      ],
      "execution_count": null,
      "outputs": [
        {
          "output_type": "stream",
          "text": [
            "Charset None\n"
          ],
          "name": "stdout"
        },
        {
          "output_type": "execute_result",
          "data": {
            "application/vnd.google.colaboratory.intrinsic+json": {
              "type": "string"
            },
            "text/plain": [
              "\"\\ufeffThe Project Gutenberg EBook of Alice’s Adventures in Wonderland, by Lewis Carroll\\r\\n\\r\\nThis eBook is for the use of anyone anywhere in the United States and most\\r\\nother parts of the world at no cost and with almost no restrictions\\r\\nwhatsoever.  You may copy it, give it away or re-use it under the terms of\\r\\nthe Project Gutenberg License included with this eBook or online at\\r\\nwww.gutenberg.org.  If you are not located in the United States, you'll have\\r\\nto check the laws of the country where you are located before using this ebook.\\r\\n\\r\\nTitle: Alice’s Adventures in Wonderland\\r\\n\\r\\nAuthor: Lewis Carroll\\r\\n\\r\\nRelease Date: June 25, 2008 [EBook #11]\\r\\n[Most recently updated: October 12, 2020]\\r\\n\\r\\nLanguage: English\\r\\n\\r\\nCharacter set encoding: UTF-8\\r\\n\\r\\n*** START OF THIS PROJECT GUTENBERG EBOOK ALICE’S ADVENTURES IN WONDERLAND ***\\r\\n\\r\\n\\r\\n\\r\\nProduced by Arthur DiBianca and David Widger\\r\\n\\r\\n[Illustration]\\r\\n\\r\\n\\r\\n\\r\\n\\r\\nAlice’s Adventures in Wonderland\\r\\n\\r\\nby Lewis Carroll\\r\\n\\r\\nTHE MILLENNIUM FULCRUM EDITION 3.0\\r\\n\\r\\nCon\""
            ]
          },
          "metadata": {
            "tags": []
          },
          "execution_count": 29
        }
      ]
    },
    {
      "cell_type": "code",
      "metadata": {
        "colab": {
          "base_uri": "https://localhost:8080/"
        },
        "id": "mBCvknqD9ydH",
        "outputId": "f6fb1faa-897e-4582-e319-3eb0b3c5b9ec"
      },
      "source": [
        "type(text1)"
      ],
      "execution_count": null,
      "outputs": [
        {
          "output_type": "execute_result",
          "data": {
            "text/plain": [
              "str"
            ]
          },
          "metadata": {
            "tags": []
          },
          "execution_count": 30
        }
      ]
    },
    {
      "cell_type": "code",
      "metadata": {
        "colab": {
          "base_uri": "https://localhost:8080/",
          "height": 35
        },
        "id": "mUjI7jqv9ydI",
        "outputId": "723d7075-242d-4fae-bbe7-90497f4d125f"
      },
      "source": [
        "text2 = re.sub('<.*?>', ' ', text1)\n",
        "##text2 = re.sub(' +', ' ', text2)\n",
        "text2 = re.sub(r'[^\\w\\s]', '', text2)\n",
        "clean_pattern = re.compile(\"End of the Project Gutenberg EBook.*\")\n",
        "text2 =  re.sub(clean_pattern, \"\", text2.replace(\"\\n\", \" \").replace(\"\\r\", \" \"))\n",
        "text2 = re.sub(' +', ' ', text2)\n",
        "text2[:100]"
      ],
      "execution_count": null,
      "outputs": [
        {
          "output_type": "execute_result",
          "data": {
            "application/vnd.google.colaboratory.intrinsic+json": {
              "type": "string"
            },
            "text/plain": [
              "'The Project Gutenberg EBook of Alices Adventures in Wonderland by Lewis Carroll This eBook is for th'"
            ]
          },
          "metadata": {
            "tags": []
          },
          "execution_count": 31
        }
      ]
    },
    {
      "cell_type": "code",
      "metadata": {
        "id": "AejXJsdj480d"
      },
      "source": [
        "CHAP1= text2.find(\"CHAPTER I Down the RabbitHole Alice\")\r\n",
        "CHAP12= text2.rfind(\"CHAPTER II The Pool of Tears Curiouser and curiouser\")\r\n",
        "CHA1=text2[CHAP1:CHAP12]\r\n",
        "\r\n",
        "CHAP2= text2.find(\"CHAPTER II The Pool of Tears Curiouser and curiouser\")\r\n",
        "CHAP22= text2.rfind(\"CHAPTER III A CaucusRace and a Long Tale They were indeed\")\r\n",
        "CHA2=text2[CHAP2:CHAP22]\r\n",
        "\r\n",
        "CHAP3= text2.find(\"CHAPTER III A CaucusRace and a Long Tale They were indeed\")\r\n",
        "CHAP32= text2.rfind(\"CHAPTER IV The Rabbit Sends in a Little Bill It was the White Rabbit\")\r\n",
        "CHA3=text2[CHAP3:CHAP32]\r\n",
        "\r\n",
        "CHAP4= text2.find(\"CHAPTER IV The Rabbit Sends in a Little Bill It was the White Rabbit\")\r\n",
        "CHAP42= text2.rfind(\"CHAPTER V Advice from a Caterpillar The Caterpillar and Alice\")\r\n",
        "CHA4=text2[CHAP4:CHAP42]\r\n",
        "\r\n",
        "CHAP5= text2.find(\"CHAPTER V Advice from a Caterpillar The Caterpillar and Alice\")\r\n",
        "CHAP52= text2.rfind(\"CHAPTER VI Pig and Pepper For a minute or two\")\r\n",
        "CHA5=text2[CHAP5:CHAP52]\r\n",
        "\r\n",
        "CHAP6= text2.find(\"CHAPTER VI Pig and Pepper For a minute or two\")\r\n",
        "CHAP62= text2.rfind(\"CHAPTER VII A Mad Tea-Party There was a table set out under\")\r\n",
        "CHA6=text2[CHAP6:CHAP62]\r\n",
        "\r\n",
        "CHAP7= text2.find(\"CHAPTER VII A Mad TeaParty There was a table set out under\")\r\n",
        "CHAP72= text2.rfind(\"CHAPTER VIII The Queens CroquetGround A large rosetree stood\")\r\n",
        "CHA7=text2[CHAP7:CHAP72]\r\n",
        "\r\n",
        "CHAP8= text2.find(\"CHAPTER VIII The Queens CroquetGround A large rosetree stood\")\r\n",
        "CHAP82= text2.rfind(\"CHAPTER IX The Mock Turtles Story You cant\")\r\n",
        "CHA8=text2[CHAP8:CHAP82]\r\n",
        "\r\n",
        "CHAP9= text2.find(\"CHAPTER IX The Mock Turtles Story You cant\")\r\n",
        "CHAP92= text2.rfind(\"CHAPTER X The Lobster Quadrille The Mock Turtle sighed\")\r\n",
        "CHA9=text2[CHAP9:CHAP92]\r\n",
        "\r\n",
        "CHAP10= text2.find(\"CHAPTER X The Lobster Quadrille The Mock Turtle sighed\")\r\n",
        "CHAP102= text2.rfind(\"CHAPTER XI Who Stole the Tarts The King and\")\r\n",
        "CHA10=text2[CHAP10:CHAP102]\r\n",
        "\r\n",
        "CHAP11= text2.find(\"CHAPTER XI Who Stole the Tarts The King and\")\r\n",
        "CHAP112= text2.rfind(\"CHAPTER XII Alices Evidence Here cried Alice\")\r\n",
        "CHA11=text2[CHAP11:CHAP112]\r\n",
        "\r\n",
        "CHAP12= text2.find(\"CHAPTER XII Alices Evidence Here cried Alice\")\r\n",
        "CHAP122= text2.rfind(\"End of Project Gutenbergs\")\r\n",
        "CHA12=text2[CHAP12:CHAP122]\r\n",
        "LISTA = CHA1+CHA2+CHA3+CHA4+CHA5+CHA6+CHA7+CHA8+CHA9+CHA10+CHA11+CHA12"
      ],
      "execution_count": null,
      "outputs": []
    },
    {
      "cell_type": "code",
      "metadata": {
        "id": "ZX27jwlA5FZR"
      },
      "source": [
        "def clean_text(text):\r\n",
        "    nltk.download('wordnet')\r\n",
        "    tokens = text.split(' ')\r\n",
        "    tokens = [token.lower() for token in tokens]\r\n",
        "    stop_words = stopwords.words('english')\r\n",
        "    text = [token for token in tokens if token not in stop_words]\r\n",
        "\r\n",
        "    lemmatizer = WordNetLemmatizer()\r\n",
        "    stemmer = PorterStemmer()\r\n",
        "    \r\n",
        "    [lemmatizer.lemmatize(token) for token in text]\r\n",
        "    [stemmer.stem(token) for token in text]\r\n",
        "    return text"
      ],
      "execution_count": null,
      "outputs": []
    },
    {
      "cell_type": "code",
      "metadata": {
        "colab": {
          "base_uri": "https://localhost:8080/"
        },
        "id": "dF2N5X4P609F",
        "outputId": "6ce014fc-6f8a-4206-e613-605c66017d30"
      },
      "source": [
        "CHAPTER1=clean_text(CHA1)\r\n",
        "CHAPTER2=clean_text(CHA2)\r\n",
        "CHAPTER3=clean_text(CHA3)\r\n",
        "CHAPTER4=clean_text(CHA4)\r\n",
        "CHAPTER5=clean_text(CHA5)\r\n",
        "CHAPTER6=clean_text(CHA6)\r\n",
        "CHAPTER7=clean_text(CHA7)\r\n",
        "CHAPTER8=clean_text(CHA8)\r\n",
        "CHAPTER9=clean_text(CHA9)\r\n",
        "CHAPTER10=clean_text(CHA10)\r\n",
        "CHAPTER11=clean_text(CHA11)\r\n",
        "CHAPTER12=clean_text(CHA12)\r\n"
      ],
      "execution_count": null,
      "outputs": [
        {
          "output_type": "stream",
          "text": [
            "[nltk_data] Downloading package wordnet to /root/nltk_data...\n",
            "[nltk_data]   Package wordnet is already up-to-date!\n",
            "[nltk_data] Downloading package wordnet to /root/nltk_data...\n",
            "[nltk_data]   Package wordnet is already up-to-date!\n",
            "[nltk_data] Downloading package wordnet to /root/nltk_data...\n",
            "[nltk_data]   Package wordnet is already up-to-date!\n",
            "[nltk_data] Downloading package wordnet to /root/nltk_data...\n",
            "[nltk_data]   Package wordnet is already up-to-date!\n",
            "[nltk_data] Downloading package wordnet to /root/nltk_data...\n",
            "[nltk_data]   Package wordnet is already up-to-date!\n",
            "[nltk_data] Downloading package wordnet to /root/nltk_data...\n",
            "[nltk_data]   Package wordnet is already up-to-date!\n",
            "[nltk_data] Downloading package wordnet to /root/nltk_data...\n",
            "[nltk_data]   Package wordnet is already up-to-date!\n",
            "[nltk_data] Downloading package wordnet to /root/nltk_data...\n",
            "[nltk_data]   Package wordnet is already up-to-date!\n",
            "[nltk_data] Downloading package wordnet to /root/nltk_data...\n",
            "[nltk_data]   Package wordnet is already up-to-date!\n",
            "[nltk_data] Downloading package wordnet to /root/nltk_data...\n",
            "[nltk_data]   Package wordnet is already up-to-date!\n",
            "[nltk_data] Downloading package wordnet to /root/nltk_data...\n",
            "[nltk_data]   Package wordnet is already up-to-date!\n",
            "[nltk_data] Downloading package wordnet to /root/nltk_data...\n",
            "[nltk_data]   Package wordnet is already up-to-date!\n"
          ],
          "name": "stdout"
        }
      ]
    },
    {
      "cell_type": "code",
      "metadata": {
        "id": "mkF7PZ7e-HdM"
      },
      "source": [
        "def distrib(text):\r\n",
        "    fdist1 = FreqDist(text)\r\n",
        "    text=fdist1.most_common(11)\r\n",
        "    a=np.array(text)\r\n",
        "    a=pd.DataFrame(a)\r\n",
        "    a=a[0]\r\n",
        "    a=a[1:11]\r\n",
        "    a=np.array(a)\r\n",
        "    title=' '.join(a)\r\n",
        "    return text, title\r\n"
      ],
      "execution_count": 55,
      "outputs": []
    },
    {
      "cell_type": "code",
      "metadata": {
        "colab": {
          "base_uri": "https://localhost:8080/"
        },
        "id": "s6_sbd_B-LVt",
        "outputId": "c96af96d-0a8d-472f-c3b3-05d0bdb11802"
      },
      "source": [
        "text_1, title1=distrib(CHAPTER1)\r\n",
        "text_2, title2=distrib(CHAPTER2)\r\n",
        "text_3, title3=distrib(CHAPTER3)\r\n",
        "text_4, title4=distrib(CHAPTER4)\r\n",
        "text_5, title5=distrib(CHAPTER5)\r\n",
        "text_6, title6=distrib(CHAPTER6)\r\n",
        "text_7, title7=distrib(CHAPTER7)\r\n",
        "text_8, title8=distrib(CHAPTER8)\r\n",
        "text_9, title9=distrib(CHAPTER9)\r\n",
        "text_10, title10=distrib(CHAPTER10)\r\n",
        "text_11, title11=distrib(CHAPTER11)\r\n",
        "text_12, title12=distrib(CHAPTER12)\r\n",
        "text_1,title1"
      ],
      "execution_count": 56,
      "outputs": [
        {
          "output_type": "execute_result",
          "data": {
            "text/plain": [
              "([('alice', 27),\n",
              "  ('little', 15),\n",
              "  ('think', 11),\n",
              "  ('way', 11),\n",
              "  ('like', 11),\n",
              "  ('see', 10),\n",
              "  ('thought', 8),\n",
              "  ('could', 8),\n",
              "  ('time', 8),\n",
              "  ('one', 8),\n",
              "  ('said', 8)],\n",
              " 'little think way like see thought could time one said')"
            ]
          },
          "metadata": {
            "tags": []
          },
          "execution_count": 56
        }
      ]
    },
    {
      "cell_type": "code",
      "metadata": {
        "id": "HbaXJQcr-kfu"
      },
      "source": [
        "from nltk import word_tokenize\r\n",
        "from  nltk.text import ConcordanceIndex"
      ],
      "execution_count": null,
      "outputs": []
    },
    {
      "cell_type": "markdown",
      "metadata": {
        "id": "zz9fADPN-jB-"
      },
      "source": [
        "Find the Top 10 most used verbs in sentences with Alice. What does Alice do most often?"
      ]
    },
    {
      "cell_type": "code",
      "metadata": {
        "id": "s2-hFBSN-5Al"
      },
      "source": [
        "orig_stdout = sys.stdout\r\n",
        "out = io.StringIO()\r\n",
        "sys.stdout = out\r\n",
        "vebstext.concordance(\"Alice\", lines = 387)\r\n",
        "savetext = out.getvalue()\r\n",
        "sys.stdout = orig_stdout"
      ],
      "execution_count": 57,
      "outputs": []
    },
    {
      "cell_type": "code",
      "metadata": {
        "colab": {
          "base_uri": "https://localhost:8080/",
          "height": 35
        },
        "id": "V__M5VKi_FWr",
        "outputId": "12eec12e-535a-4052-8e3e-4a42ec1db97f"
      },
      "source": [
        "text2 = re.sub('<.*?>', ' ', savetext)\r\n",
        "text2 = re.sub(r'[^\\w\\s]', '', text2)\r\n",
        "clean_pattern = re.compile(\"End of the Project Gutenberg EBook.*\")\r\n",
        "text2 =  re.sub(clean_pattern, \"\", text2.replace(\"\\n\", \" \").replace(\"\\r\", \" \"))\r\n",
        "text2 = re.sub(' +', ' ', text2)\r\n",
        "text2[:100]"
      ],
      "execution_count": 58,
      "outputs": [
        {
          "output_type": "execute_result",
          "data": {
            "application/vnd.google.colaboratory.intrinsic+json": {
              "type": "string"
            },
            "text/plain": [
              "'Displaying 385 of 385 matches idence CHAPTER I Down the RabbitHole Alice was beginning to get very t'"
            ]
          },
          "metadata": {
            "tags": []
          },
          "execution_count": 58
        }
      ]
    },
    {
      "cell_type": "code",
      "metadata": {
        "colab": {
          "base_uri": "https://localhost:8080/",
          "height": 120
        },
        "id": "PB4ji4vZ_IVm",
        "outputId": "c5e8eaa2-5fc9-4641-d0a2-f6f50374ef3e"
      },
      "source": [
        "n=list(savetext)\r\n",
        "savetext"
      ],
      "execution_count": 59,
      "outputs": [
        {
          "output_type": "execute_result",
          "data": {
            "application/vnd.google.colaboratory.intrinsic+json": {
              "type": "string"
            },
            "text/plain": [
              "'Displaying 385 of 385 matches:\\nidence CHAPTER I Down the RabbitHole Alice was beginning to get very tired of s\\nnd what is the use of a book thought Alice without pictures or conversations So\\nso _very_ remarkable in that nor did Alice think it so _very_ much out of the w\\nand looked at it and then hurried on Alice started to her feet for it flashed a\\nhe hedge In another moment down went Alice after it never once considering how \\nipped suddenly down so suddenly that Alice had not a moment to think about stop\\nrds as she fell past it Well thought Alice to herself after such a fall as this\\nusand miles down I think for you see Alice had learnt several things of this so\\nhat Latitude or Longitude Ive got to Alice had no idea what Latitude was or Lon\\ndown There was nothing else to do so Alice soon began talking again Dinahll mis\\nt do cats eat bats I wonder And here Alice began to get rather sleepy and went \\nand dry leaves and the fall was over Alice was not a bit hurt and she jumped up\\nas not a moment to be lost away went Alice like the wind and was just in time t\\nll but they were all locked and when Alice had been all the way down one side a\\nk and to her great delight it fitted Alice opened the door and found that it le\\ny head would go through thought poor Alice it would be of very little use witho\\neway things had happened lately that Alice had begun to think that very few thi\\nh certainly was not here before said Alice and round the neck of the bottle was\\n to say Drink me but the wise little Alice was not going to do _that_ in a hurr\\nis bottle was _not_ marked poison so Alice ventured to taste it and finding it \\nd it off What a curious feeling said Alice I must be shutting up like a telesco\\n this for it might end you know said Alice to herself in my going out altogethe\\nthe garden at once but alas for poor Alice when she got to the door she found s\\neres no use in crying like that said Alice to herself rather sharply I advise y\\nople But its no use now thought poor Alice to pretend to be two people Why ther\\nked in currants Well Ill eat it said Alice and if it makes me grow larger I can\\nrally happens when one eats cake but Alice had got so much into the way of expe\\n Tears Curiouser and curiouser cried Alice she was so much surprised that for t\\nanbut I must be kind to them thought Alice or perhaps they wont walk the way I \\n hurried off to the garden door Poor Alice It was as much as she could do lying\\nought to be ashamed of yourself said Alice a great girl like you she might well\\nhe be savage if Ive kept her waiting Alice felt so desperate that she was ready\\n the darkness as hard as he could go Alice took up the fan and gloves and as th\\nse are not the right words said poor Alice and her eyes filled with tears again\\nll Im somebody elsebut oh dear cried Alice with a sudden burst of tears I do wi\\nther That _was_ a narrow escape said Alice a good deal frightened at the sudden\\n back by railway she said to herself Alice had been to the seaside once in her \\ngh I wish I hadnt cried so much said Alice as she swam about trying to find her\\nf Would it be of any use now thought Alice to speak to this mouse Everything is\\ntired of swimming about here O Mouse Alice thought this must be the right way o\\nit doesnt understand English thought Alice I daresay its a French mouse come ov\\nor with all her knowledge of history Alice had no very clear notion how long ag\\nth fright Oh I beg your pardon cried Alice hastily afraid that she had hurt the\\nif you were me Well perhaps not said Alice in a soothing tone dont be angry abo\\ne her She is such a dear quiet thing Alice went on half to herself as she swam \\nching miceoh I beg your pardon cried Alice again for this time the Mouse was br\\nar the name again I wont indeed said Alice in a great hurry to change the subje\\nfof dogs The Mouse did not answer so Alice went on eagerly There is such a nice\\n kills all the rats andoh dear cried Alice in a sorrowful tone Im afraid Ive of\\nits face was quite pale with passion Alice thought and it said in a low trembli\\n and several other curious creatures Alice led the way and the whole party swam\\nw minutes it seemed quite natural to Alice to find herself talking familiarly w\\nan you and must know better and this Alice would not allow without knowing how \\nge ring with the Mouse in the middle Alice kept her eyes anxiously fixed on it \\n now my dear it continued turning to Alice as it spoke As wet as ever said Alic\\nlice as it spoke As wet as ever said Alice in a melancholy tone it doesnt seem \\nucusrace What _is_ a Caucusrace said Alice not that she wanted much to know but\\n of course said the Dodo pointing to Alice with one finger and the whole party \\n out in a confused way Prizes Prizes Alice had no idea what to do and in despai\\nin your pocket he went on turning to Alice Only a thimble said Alice sadly Hand\\nturning to Alice Only a thimble said Alice sadly Hand it over here said the Dod\\nd this short speech they all cheered Alice thought the whole thing very absurd \\no tell me your history you know said Alice and why it is you hateC and D she ad\\na sad tale said the Mouse turning to Alice and sighing It _is_ a long tail cert\\ng It _is_ a long tail certainly said Alice looking down with wonder at the Mous\\n are not attending said the Mouse to Alice severely What are you thinking of I \\nu thinking of I beg your pardon said Alice very humbly you had got to the fifth\\nsharply and very angrily A knot said Alice always ready to make herself useful \\nonsense I didnt mean it pleaded poor Alice But youre so easily offended you kno\\nease come back and finish your story Alice called after it and the others all j\\n had our Dinah here I know I do said Alice aloud addressing nobody in particula\\nre to ask the question said the Lory Alice replied eagerly for she was always r\\nious pretexts they all moved off and Alice was soon left alone I wish I hadnt m\\n ever see you any more And here poor Alice began to cry again for she felt very\\ne _can_ I have dropped them I wonder Alice guessed in a moment that it was look\\npletely Very soon the Rabbit noticed Alice as she went hunting about and called\\nir of gloves and a fan Quick now And Alice was so much frightened that she ran \\nhe fan and gloves How queer it seems Alice said to herself to be going messages\\nsort of thing that would happen Miss Alice Come here directly and get ready for\\nuse doesnt get out Only I dont think Alice went on that theyd let Dinah stop in\\nWhat _will_ become of me Luckily for Alice the little magic bottle had now had \\nmuch pleasanter at home thought poor Alice when one wasnt always growing larger\\n up any more _here_ But then thought Alice shall I _never_ get any older than I\\n shouldnt like _that_ Oh you foolish Alice she answered herself How can you lea\\nttle pattering of feet on the stairs Alice knew it was the Rabbit coming to loo\\nnst it that attempt proved a failure Alice heard it say to itself Then Ill go r\\nt the window _That_ you wont thought Alice and after waiting till she fancied s\\nre was a long silence after this and Alice could only hear whispers now and the\\ncucumberframes there must be thought Alice I wonder what theyll do next As for \\nto come down the chimney has he said Alice to herself Shy they seem to put ever\\ne squeaking voice Thats Bill thought Alice Well I hardly knowNo more thank ye I\\nouse down said the Rabbits voice and Alice called out as loud as she could If y\\nere was a dead silence instantly and Alice thought to herself I wonder what the\\nwo they began moving about again and Alice heard the Rabbit say A barrowful wil\\nn with A barrowful of _what_ thought Alice but she had not long to doubt for th\\n which produced another dead silence Alice noticed with some surprise that the \\n of a bottle They all made a rush at Alice the moment she appeared but she ran \\nd The first thing Ive got to do said Alice to herself as she wandered about in \\n to touch her Poor little thing said Alice in a coaxing tone and she tried hard\\nck and made believe to worry it then Alice dodged behind a great thistle to kee\\n in its hurry to get hold of it then Alice thinking it was very like having a g\\n great eyes half shut This seemed to Alice a good opportunity for making her es\\nwhat a dear little puppy it was said Alice as she leant against a buttercup to \\nhe great question certainly was what Alice looked all round her at the flowers \\nom a Caterpillar The Caterpillar and Alice looked at each other for some time i\\ncouraging opening for a conversation Alice replied rather shyly II hardly know \\n explain _myself_ Im afraid sir said Alice because Im not myself you see I dont\\nIm afraid I cant put it more clearly Alice replied very politely for I cant und\\nhaps you havent found it so yet said Alice but when you have to turn into a chr\\n your feelings may be different said Alice all I know is it would feel very que\\nto the beginning of the conversation Alice felt a little irritated at the Cater\\nwas another puzzling question and as Alice could not think of any good reason a\\nsay This sounded promising certainly Alice turned and came back again Keep your\\naid the Caterpillar Is that all said Alice swallowing down her anger as well as\\nas she could No said the Caterpillar Alice thought she might as well wait as sh\\nanged do you Im afraid I am sir said Alice I cant remember things as I usedand \\ne busy bee but it all came different Alice replied in a very melancholy voice R\\nFather William_ said the Caterpillar Alice folded her hands and began You are o\\nlar Not _quite_ right Im afraid said Alice timidly some of the words have got a\\nsked Oh Im not particular as to size Alice hastily replied only one doesnt like\\nw I _dont_ know said the Caterpillar Alice said nothing she had never been so m\\n larger sir if you wouldnt mind said Alice three inches is such a wretched heig\\nh But Im not used to it pleaded poor Alice in a piteous tone And she thought of\\nth and began smoking again This time Alice waited patiently until it chose to s\\nat_ The other side of _what_ thought Alice to herself Of the mushroom said the \\nn another moment it was out of sight Alice remained looking thoughtfully at the\\n bit Come my heads free at last said Alice in a tone of delight which changed i\\nt _can_ all that green stuff be said Alice And where _have_ my shoulders got to\\nd the Pigeon Im _not_ a serpent said Alice indignantly Let me alone Serpent I s\\nt idea what youre talking about said Alice Ive tried the roots of trees and Ive\\nose serpents Theres no pleasing them Alice was more and more puzzled but she th\\nm very sorry youve been annoyed said Alice who was beginning to see its meaning\\nt Im _not_ a serpent I tell you said Alice Im aIm a Well _What_ are you said th\\nent something IIm a little girl said Alice rather doubtfully as she remembered \\n I _have_ tasted eggs certainly said Alice who was a very truthful child but li\\n can say This was such a new idea to Alice that she was quite silent for a minu\\n It matters a good deal to _me_ said Alice hastily but Im not looking for eggs \\n it settled down again into its nest Alice crouched down among the trees as wel\\neet high Whoever lives there thought Alice itll never do to come upon them _thi\\nge eyes like a frog and both footmen Alice noticed had powdered hair that curle\\nd their curls got entangled together Alice laughed so much at this that she had\\noor staring stupidly up into the sky Alice went timidly up to the door and knoc\\nen broken to pieces Please then said Alice how am I to get in There might be so\\nll the time he was speaking and this Alice thought decidedly uncivil But perhap\\nad happened How am I to get in asked Alice again in a louder tone _Are_ you to \\nestion you know It was no doubt only Alice did not like to be told so Its reall\\n and days But what am _I_ to do said Alice Anything you like said the Footman a\\ntheres no use in talking to him said Alice desperately hes perfectly idiotic An\\nrtainly too much pepper in that soup Alice said to herself as well as she could\\nto ear Please would you tell me said Alice a little timidly for she was not qui\\n word with such sudden violence that Alice quite jumped but she saw in another \\n of em do I dont know of any that do Alice said very politely feeling quite ple\\nch said the Duchess and thats a fact Alice did not at all like the tone of this\\n_please_ mind what youre doing cried Alice jumping up and down in an agony of t\\nich would _not_ be an advantage said Alice who felt very glad to get an opportu\\ns said the Duchess chop off her head Alice glanced rather anxiously at the cook\\nthe poor little thing howled so that Alice could hardly hear the words I speak \\n bit if you like the Duchess said to Alice flinging the baby at her as she spok\\n she went out but it just missed her Alice caught the baby with some difficulty\\nections just like a starfish thought Alice The poor little thing was snorting l\\ntake this child away with me thought Alice theyre sure to kill it in a day or t\\nneezing by this time Dont grunt said Alice thats not at all a proper way of exp\\n yourself The baby grunted again and Alice looked very anxiously into its face \\nxtremely small for a baby altogether Alice did not like the look of the thing a\\noing to turn into a pig my dear said Alice seriously Ill have nothing more to d\\ney went on for some while in silence Alice was just beginning to think to herse\\noff The Cat only grinned when it saw Alice It looked goodnatured she thought st\\nider Come its pleased so far thought Alice and she went on Would you tell me pl\\n the Cat I dont much care where said Alice Then it doesnt matter which way you \\nthe Cat so long as I get _somewhere_ Alice added as an explanation Oh youre sur\\nthe Cat if you only walk long enough Alice felt that this could not be denied s\\nt I dont want to go among mad people Alice remarked Oh you cant help that said \\noure mad How do you know Im mad said Alice You must be said the Cat or you woul\\nhe Cat or you wouldnt have come here Alice didnt think that proved it at all ho\\nmad You grant that I suppose so said Alice Well then the Cat went on you see a \\nI_ call it purring not growling said Alice Call it what you like said the Cat D\\noday I should like it very much said Alice but I havent been invited yet Youll \\ne me there said the Cat and vanished Alice was not much surprised at this she w\\norgotten to ask It turned into a pig Alice quietly said just as if it had come \\nould said the Cat and vanished again Alice waited a little half expecting to se\\n fig said the Cat I said pig replied Alice and I wish you wouldnt keep appearin\\nen seen a cat without a grin thought Alice but a grin without a cat Its the mos\\ncomfortable for the Dormouse thought Alice only as its asleep I suppose it does\\nNo room they cried out when they saw Alice coming Theres _plenty_ of room said \\n coming Theres _plenty_ of room said Alice indignantly and she sat down in a la\\nrch Hare said in an encouraging tone Alice looked all round the table but there\\nt very civil of you to offer it said Alice angrily It wasnt very civil of you t\\n didnt know it was _your_ table said Alice its laid for a great many more than \\nid the Hatter He had been looking at Alice for some time with great curiosity a\\nd learn not to make personal remarks Alice said with some severity its very rud\\ne we shall have some fun now thought Alice Im glad theyve begun asking riddlesI\\n said the March Hare Exactly so said Alice Then you should say what you mean th\\nyou mean the March Hare went on I do Alice hastily replied at leastat least I m\\n party sat silent for a minute while Alice thought over all she could remember \\nf the month is it he said turning to Alice he had taken his watch out of his po\\nw and then and holding it to his ear Alice considered a little and then said Th\\nrk It was the _best_ butter you know Alice had been looking over his shoulder w\\nll you what year it is Of course not Alice replied very readily but thats becau\\nthe case with _mine_ said the Hatter Alice felt dreadfully puzzled The Hatters \\niddle yet the Hatter said turning to Alice again No I give it up Alice replied \\nrning to Alice again No I give it up Alice replied whats the answer I havent th\\nthe Hatter Nor I said the March Hare Alice sighed wearily I think you might do \\n_him_ I dont know what you mean said Alice Of course you dont the Hatter said t\\nnever even spoke to Time Perhaps not Alice cautiously replied but I know I have\\nr That would be grand certainly said Alice thoughtfully but thenI shouldnt be h\\nu liked Is that the way _you_ manage Alice asked The Hatter shook his head mour\\naps Ive heard something like it said Alice It goes on you know the Hatter conti\\nhead How dreadfully savage exclaimed Alice And ever since that the Hatter went \\nyou keep moving round I suppose said Alice Exactly so said the Hatter as the th\\nwhen you come to the beginning again Alice ventured to ask Suppose we change th\\nstory Im afraid I dont know one said Alice rather alarmed at the proposal Then \\nthe March Hare Yes please do pleaded Alice And be quick about it added the Hatt\\nof a well What did they live on said Alice who always took a great interest in \\nThey couldnt have done that you know Alice gently remarked theyd have been ill \\ney were said the Dormouse _very_ ill Alice tried to fancy to herself what such \\nsome more tea the March Hare said to Alice very earnestly Ive had nothing yet A\\ne very earnestly Ive had nothing yet Alice replied in an offended tone so I can\\ning Nobody asked _your_ opinion said Alice Whos making personal remarks now the\\nks now the Hatter asked triumphantly Alice did not quite know what to say to th\\ns a treaclewell Theres no such thing Alice was beginning very angrily but the H\\ne story for yourself No please go on Alice said very humbly I wont interrupt ag\\nraw you know What did they draw said Alice quite forgetting her promise Treacle\\ne moved into the Dormouses place and Alice rather unwillingly took the place of\\not any advantage from the change and Alice was a good deal worse off than befor\\nust upset the milkjug into his plate Alice did not wish to offend the Dormouse \\nh stupid But they were _in_ the well Alice said to the Dormouse not choosing to\\nwell in This answer so confused poor Alice that she let the Dormouse go on for \\n begins with an M Why with an M said Alice Why not said the March Hare Alice wa\\nid Alice Why not said the March Hare Alice was silent The Dormouse had closed i\\n muchness Really now you ask me said Alice very much confused I dont think Then\\nThis piece of rudeness was more than Alice could bear she got up in great disgu\\nrate Ill never go _there_ again said Alice as she picked her way through the wo\\neners at it busily painting them red Alice thought this a very curious thing an\\ngs when his eye chanced to fall upon Alice as she stood watching them and he ch\\nhem bowed low Would you tell me said Alice a little timidly why you are paintin\\nre was a sound of many footsteps and Alice looked round eager to see the Queen \\nstly Kings and Queens and among them Alice recognised the White Rabbit it was t\\non came THE KING AND QUEEN OF HEARTS Alice was rather doubtful whether she ough\\nWhen the procession came opposite to Alice they all stopped and looked at her a\\n her head impatiently and turning to Alice she went on Whats your name child My\\n on Whats your name child My name is Alice so please your Majesty said Alice ve\\nis Alice so please your Majesty said Alice very politely but she added to herse\\nwn children How should _I_ know said Alice surprised at her own courage Its no \\n Off with her head Off Nonsense said Alice very loudly and decidedly and the Qu\\nthe unfortunate gardeners who ran to Alice for protection You shant be beheaded\\nrotection You shant be beheaded said Alice and she put them into a large flower\\ne soldiers were silent and looked at Alice as the question was evidently meant \\n evidently meant for her Yes shouted Alice Come on then roared the Queen and Al\\nce Come on then roared the Queen and Alice joined the procession wondering very\\nng anxiously into her face Very said Alice wheres the Duchess Hush Hush said th\\n sentence of execution What for said Alice Did you say What a pity the Rabbit a\\nity the Rabbit asked No I didnt said Alice I dont think its at all a pity I sai\\nxed the Queens ears the Rabbit began Alice gave a little scream of laughter Oh \\nn a minute or two and the game began Alice thought she had never seen such a cu\\nmake the arches The chief difficulty Alice found at first was in managing her f\\ning off to other parts of the ground Alice soon came to the conclusion that it \\nwith her head about once in a minute Alice began to feel very uneasy to be sure\\nas mouth enough for it to speak with Alice waited till the eyes appeared and th\\nute the whole head appeared and then Alice put down her flamingo and began an a\\nI dont think they play at all fairly Alice began in rather a complaining tone a\\ne Cat in a low voice Not at all said Alice shes so extremely Just then she noti\\ntalking to said the King going up to Alice and looking at the Cats head with gr\\n a friend of minea Cheshire Cat said Alice allow me to introduce it I dont like\\nt look at me like that He got behind Alice as he spoke A cat may look at a king\\n spoke A cat may look at a king said Alice Ive read that in some book but I don\\n the King eagerly and he hurried off Alice thought she might as well go back an\\nith another hedgehog which seemed to Alice an excellent opportunity for croquet\\no the other side of the garden where Alice could see it trying in a helpless so\\nht but it doesnt matter much thought Alice as all the arches are gone from this\\nlooked very uncomfortable The moment Alice appeared she was appealed to by all \\nhole party look so grave and anxious Alice could think of nothing else to say b\\n Alices and they walked off together Alice was very glad to find her in such a \\nber it in a bit Perhaps it hasnt one Alice ventured to remark Tut tut child sai\\np closer to Alices side as she spoke Alice did not much like keeping so close t\\nkes the world go round Somebody said Alice whispered that its done by everybody\\nd she is of finding morals in things Alice thought to herself I dare say youre \\nl I try the experiment He might bite Alice cautiously replied not feeling at al\\nck together Only mustard isnt a bird Alice remarked Right as usual said the Duc\\n things Its a mineral I _think_ said Alice Of course it is said the Duchess who\\ned ready to agree to everything that Alice said theres a large mustardmine near\\nhere is of yours Oh I know exclaimed Alice who had not attended to this last re\\nhink I should understand that better Alice said very politely if I had it writt\\n to say it any longer than that said Alice Oh dont talk about trouble said the \\n yet A cheap sort of present thought Alice Im glad they dont give birthday pres\\nittle chin Ive a right to think said Alice sharply for she was beginning to fee\\nas linked into hers began to tremble Alice looked up and there stood the Queen \\no on with the game the Queen said to Alice and Alice was too much frightened to\\nthe game the Queen said to Alice and Alice was too much frightened to say a wor\\nlayers except the King the Queen and Alice were in custody and under sentence o\\n off quite out of breath and said to Alice Have you seen the Mock Turtle yet No\\nyou seen the Mock Turtle yet No said Alice I dont even know what a Mock Turtle \\nI never saw one or heard of one said Alice Come on then said the Queen and he s\\n history As they walked off together Alice heard the King say in a low voice to\\ne ordered and she walked off leaving Alice alone with the Gryphon Alice did not\\nleaving Alice alone with the Gryphon Alice did not quite like the look of the c\\nd the Gryphon half to itself half to Alice What _is_ the fun said Alice Why _sh\\nhalf to Alice What _is_ the fun said Alice Why _she_ said the Gryphon Its all h\\n Everybody says come on here thought Alice as she went slowly after it I never \\nedge of rock and as they came nearer Alice could hear him sighing as if his hea\\nwn and nobody spoke for some minutes Alice thought to herself I dont see how he\\nant heavy sobbing of the Mock Turtle Alice was very nearly getting up and sayin\\nou call him Tortoise if he wasnt one Alice asked We called him Tortoise because\\ny both sat silent and looked at poor Alice who felt ready to sink into the eart\\n it I never said I didnt interrupted Alice You did said the Mock Turtle Hold yo\\nyour tongue added the Gryphon before Alice could speak again The Mock Turtle we\\ny _Ive_ been to a dayschool too said Alice you neednt be so proud as all that W\\nk Turtle a little anxiously Yes said Alice we learned French and music And wash\\nd the Mock Turtle Certainly not said Alice indignantly Ah then yours wasnt a re\\nYou couldnt have wanted it much said Alice living at the bottom of the sea I co\\negular course What was that inquired Alice Reeling and Writhing of course to be\\nrision I never heard of Uglification Alice ventured to say What is it The Gryph\\nat to beautify is I suppose Yes said Alice doubtfully it meanstomakeanythingpre\\nt to uglify is you _are_ a simpleton Alice did not feel encouraged to ask any m\\ng in Coils What was _that_ like said Alice Well I cant show it you myself the M\\n hours a day did you do lessons said Alice in a hurry to change the subject Ten\\n so on What a curious plan exclaimed Alice Thats the reason theyre called lesso\\n to day This was quite a new idea to Alice and she thought it over a little bef\\nnd how did you manage on the twelfth Alice went on eagerly Thats enough about l\\nflapper across his eyes He looked at Alice and tried to speak but for a minute \\ne never even introduced to a lobster Alice began to say I once tasted but check\\n Lobster Quadrille is No indeed said Alice What sort of a dance is it Why said \\nvery sadly and quietly and looked at Alice It must be a very pretty dance said \\n It must be a very pretty dance said Alice timidly Would you like to see a litt\\nhe Mock Turtle Very much indeed said Alice Come lets try the first figure said \\ngan solemnly dancing round and round Alice every now and then treading on her t\\nvery interesting dance to watch said Alice feeling very glad that it was over a\\neyyouve seen them of course Yes said Alice Ive often seen them at dinn she chec\\nu know what theyre like I believe so Alice replied thoughtfully They have their\\nm out again Thats all Thank you said Alice its very interesting I never knew so\\nhiting I never thought about it said Alice Why _It does the boots and shoes_ th\\ns_ the Gryphon replied very solemnly Alice was thoroughly puzzled Does the boot\\nphon I mean what makes them so shiny Alice looked down at them and considered a\\nw you know And what are they made of Alice asked in a tone of great curiosity S\\nyou that If Id been the whiting said Alice whose thoughts were still running on\\nut a porpoise Wouldnt it really said Alice in a tone of great surprise Of cours\\n porpoise Dont you mean purpose said Alice I mean what I say the Mock Turtle re\\nuresbeginning from this morning said Alice a little timidly but its no use goin\\nnations take such a dreadful time So Alice began telling them her adventures fr\\nt it had some kind of authority over Alice Stand up and repeat _Tis the voice o\\n and make one repeat lessons thought Alice I might as well be at school at once\\nrtle but it sounds uncommon nonsense Alice said nothing she had sat down with h\\now Its the first position in dancing Alice said but was dreadfully puzzled by t\\ny it begins _I passed by his garden_ Alice did not dare to disobey though she f\\netter leave off said the Gryphon and Alice was only too glad to do so Shall we \\n if the Mock Turtle would be so kind Alice replied so eagerly that the Gryphon \\nCome on cried the Gryphon and taking Alice by the hand it hurried off without w\\nthe end of the song What trial is it Alice panted as she ran but the Gryphon on\\n it they looked so good that it made Alice quite hungry to look at themI wish t\\nhing about her to pass away the time Alice had never been in a court of justice\\ncoming And thats the jurybox thought Alice and those twelve creatures she was o\\nbusily on slates What are they doing Alice whispered to the Gryphon They cant h\\ne the end of the trial Stupid things Alice began in a loud indignant voice but \\nly round to make out who was talking Alice could see as well as if she were loo\\nbe in before the trials over thought Alice One of the jurors had a pencil that \\n pencil that squeaked This of course Alice could _not_ stand and she went round\\ne breadandbutter Just at this moment Alice felt a very curious sensation which \\nn hardly breathe I cant help it said Alice very meekly Im growing Youve no righ\\nthe Dormouse Dont talk nonsense said Alice more boldly you know youre growing t\\nt Im glad Ive seen that done thought Alice Ive so often read in the newspapers \\nthat finished the guineapigs thought Alice Now we shall get on better Id rather\\narried the pepperbox in her hand and Alice guessed who it was even before she g\\nness It quite makes my forehead ache Alice watched the White Rabbit as he fumbl\\n of his shrill little voice the name Alice CHAPTER XII Alices Evidence Here cri\\nAPTER XII Alices Evidence Here cried Alice quite forgetting in the flurry of th\\n with great emphasis looking hard at Alice as he said so Alice looked at the ju\\n looking hard at Alice as he said so Alice looked at the jurybox and saw that i\\nabout this business the King said to Alice Nothing said Alice Nothing _whatever\\n the King said to Alice Nothing said Alice Nothing _whatever_ persisted the Kin\\nisted the King Nothing whatever said Alice Thats very important the King said t\\n down important and some unimportant Alice could see this as she was near enoug\\nleave the court_ Everybody looked at Alice _Im_ not a mile high said Alice You \\nd at Alice _Im_ not a mile high said Alice You are said the King Nearly two mil\\neen Well I shant go at any rate said Alice besides thats not a regular rule you\\n Then it ought to be Number One said Alice The King turned pale and shut his no\\nn It proves nothing of the sort said Alice Why you dont even know what theyre a\\n any one of them can explain it said Alice she had grown so large in the last f\\ny all returned from him to you_ said Alice Why there they are said the King tri\\nt afterwards Stuff and nonsense said Alice loudly The idea of having the senten\\nthe Queen turning purple I wont said Alice Off with her head the Queen shouted \\n Nobody moved Who cares for you said Alice she had grown to her full size by th\\nfrom the trees upon her face Wake up Alice dear said her sister Why what a long\\nOh Ive had such a curious dream said Alice and she told her sister as well as s\\nn in to your tea its getting late So Alice got up and ran off thinking while sh\\ne setting sun and thinking of little Alice and all her wonderful Adventures til\\ner dream First she dreamed of little Alice herself and once again the tiny hand\\n'"
            ]
          },
          "metadata": {
            "tags": []
          },
          "execution_count": 59
        }
      ]
    },
    {
      "cell_type": "code",
      "metadata": {
        "id": "S7V6vSTo_TQg"
      },
      "source": [
        "real=word_tokenize(savetext)"
      ],
      "execution_count": 60,
      "outputs": []
    },
    {
      "cell_type": "code",
      "metadata": {
        "colab": {
          "base_uri": "https://localhost:8080/"
        },
        "id": "-jD-ZaJI_Vz9",
        "outputId": "1a242c5b-8fb2-4ccb-a182-bae4fe997147"
      },
      "source": [
        "nltk.download('averaged_perceptron_tagger')\r\n",
        "real2=nltk.pos_tag(real)"
      ],
      "execution_count": 61,
      "outputs": [
        {
          "output_type": "stream",
          "text": [
            "[nltk_data] Downloading package averaged_perceptron_tagger to\n",
            "[nltk_data]     /root/nltk_data...\n",
            "[nltk_data]   Package averaged_perceptron_tagger is already up-to-\n",
            "[nltk_data]       date!\n"
          ],
          "name": "stdout"
        }
      ]
    },
    {
      "cell_type": "code",
      "metadata": {
        "id": "Bck1Y893_h56"
      },
      "source": [
        "word_tag_fd = nltk.FreqDist(real2)\r\n",
        "real3=[wt[0] for (wt, _) in word_tag_fd.most_common() if wt[1] == 'VBD']"
      ],
      "execution_count": 62,
      "outputs": []
    },
    {
      "cell_type": "code",
      "metadata": {
        "colab": {
          "base_uri": "https://localhost:8080/"
        },
        "id": "ol9djuHt_kWc",
        "outputId": "1ee3ff54-0184-4b62-e227-10ecda618a4b"
      },
      "source": [
        "real4=real3[0:10]\r\n",
        "real4"
      ],
      "execution_count": 63,
      "outputs": [
        {
          "output_type": "execute_result",
          "data": {
            "text/plain": [
              "['said',\n",
              " 'was',\n",
              " 'had',\n",
              " 'thought',\n",
              " 'went',\n",
              " 'looked',\n",
              " 'did',\n",
              " 'replied',\n",
              " 'began',\n",
              " 'got']"
            ]
          },
          "metadata": {
            "tags": []
          },
          "execution_count": 63
        }
      ]
    }
  ]
}