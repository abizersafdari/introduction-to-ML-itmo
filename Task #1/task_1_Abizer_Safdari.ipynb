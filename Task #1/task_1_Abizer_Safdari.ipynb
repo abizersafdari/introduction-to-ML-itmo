{
  "nbformat": 4,
  "nbformat_minor": 0,
  "metadata": {
    "colab": {
      "name": "task_1_Abizer_Safdari.ipynb",
      "provenance": []
    },
    "kernelspec": {
      "name": "python3",
      "display_name": "Python 3"
    }
  },
  "cells": [
    {
      "cell_type": "markdown",
      "metadata": {
        "id": "ao6oucIYaenN"
      },
      "source": [
        "# Task 1\r\n",
        "\r\n",
        "Train 4 different classifiers using sklearn library to predict \"Activity\" (biological response of the molecule) field from the \"bioresponse.csv\" dataset.\r\n",
        "\r\n",
        "small decision tree.\r\n",
        "\r\n",
        "deep decision tree.\r\n",
        "\r\n",
        "random forest on small trees.\r\n",
        "\r\n",
        "random forest on deep trees.\r\n",
        "\r\n",
        "Calculate the following metrics to check the quality of your models:\r\n",
        "\r\n",
        "\r\n",
        "precision;\r\n",
        "\r\n",
        "recall;\r\n",
        "\r\n",
        "accuracy;\r\n",
        "\r\n",
        "F1-score;\r\n",
        "\r\n",
        "log-loss;\r\n",
        "\r\n",
        "Plot precision-recall and ROC curves for your models.\r\n",
        "\r\n",
        "Train a classifier who avoids Type II (False Negative) errors and calculate \r\n",
        "metrics from p.2 for it."
      ]
    },
    {
      "cell_type": "code",
      "metadata": {
        "id": "iSH5I3reqHra"
      },
      "source": [
        "#Importing required libraries\r\n",
        "\r\n",
        "import numpy as np\r\n",
        "import pandas as pd\r\n",
        "from matplotlib.colors import ListedColormap\r\n",
        "import matplotlib.pyplot as plt\r\n",
        "import seaborn as sns\r\n",
        "from sklearn.tree import DecisionTreeClassifier \r\n",
        "from sklearn.preprocessing import StandardScaler\r\n",
        "from sklearn.model_selection import train_test_split, GridSearchCV, StratifiedKFold\r\n",
        "from sklearn.metrics import accuracy_score, roc_auc_score, confusion_matrix, precision_recall_curve, f1_score, log_loss, precision_score, recall_score, plot_roc_curve, plot_precision_recall_curve, roc_curve, precision_recall_curve, auc, make_scorer\r\n",
        "from sklearn.model_selection import  learning_curve\r\n",
        "from sklearn.ensemble import RandomForestClassifier"
      ],
      "execution_count": 71,
      "outputs": []
    },
    {
      "cell_type": "code",
      "metadata": {
        "colab": {
          "base_uri": "https://localhost:8080/"
        },
        "id": "m3I5gNzgqMYl",
        "outputId": "9fb65f4c-ae8a-4422-ef0b-cc7f01818d47"
      },
      "source": [
        "#loading data from google drive\r\n",
        "from google.colab import drive\r\n",
        "drive.mount('/content/drive/')"
      ],
      "execution_count": 72,
      "outputs": [
        {
          "output_type": "stream",
          "text": [
            "Drive already mounted at /content/drive/; to attempt to forcibly remount, call drive.mount(\"/content/drive/\", force_remount=True).\n"
          ],
          "name": "stdout"
        }
      ]
    },
    {
      "cell_type": "code",
      "metadata": {
        "colab": {
          "base_uri": "https://localhost:8080/",
          "height": 422
        },
        "id": "9AV0BoW3qP3h",
        "outputId": "e6797320-4b1b-4146-d7e4-c3ab3a9425ac"
      },
      "source": [
        "# load the bioresponse data as data\r\n",
        "data=pd.read_csv(\"/content/drive/My Drive/colab data/bioresponse.csv\")\r\n",
        "data"
      ],
      "execution_count": 73,
      "outputs": [
        {
          "output_type": "execute_result",
          "data": {
            "text/html": [
              "<div>\n",
              "<style scoped>\n",
              "    .dataframe tbody tr th:only-of-type {\n",
              "        vertical-align: middle;\n",
              "    }\n",
              "\n",
              "    .dataframe tbody tr th {\n",
              "        vertical-align: top;\n",
              "    }\n",
              "\n",
              "    .dataframe thead th {\n",
              "        text-align: right;\n",
              "    }\n",
              "</style>\n",
              "<table border=\"1\" class=\"dataframe\">\n",
              "  <thead>\n",
              "    <tr style=\"text-align: right;\">\n",
              "      <th></th>\n",
              "      <th>Activity</th>\n",
              "      <th>D1</th>\n",
              "      <th>D2</th>\n",
              "      <th>D3</th>\n",
              "      <th>D4</th>\n",
              "      <th>D5</th>\n",
              "      <th>D6</th>\n",
              "      <th>D7</th>\n",
              "      <th>D8</th>\n",
              "      <th>D9</th>\n",
              "      <th>D10</th>\n",
              "      <th>D11</th>\n",
              "      <th>D12</th>\n",
              "      <th>D13</th>\n",
              "      <th>D14</th>\n",
              "      <th>D15</th>\n",
              "      <th>D16</th>\n",
              "      <th>D17</th>\n",
              "      <th>D18</th>\n",
              "      <th>D19</th>\n",
              "      <th>D20</th>\n",
              "      <th>D21</th>\n",
              "      <th>D22</th>\n",
              "      <th>D23</th>\n",
              "      <th>D24</th>\n",
              "      <th>D25</th>\n",
              "      <th>D26</th>\n",
              "      <th>D27</th>\n",
              "      <th>D28</th>\n",
              "      <th>D29</th>\n",
              "      <th>D30</th>\n",
              "      <th>D31</th>\n",
              "      <th>D32</th>\n",
              "      <th>D33</th>\n",
              "      <th>D34</th>\n",
              "      <th>D35</th>\n",
              "      <th>D36</th>\n",
              "      <th>D37</th>\n",
              "      <th>D38</th>\n",
              "      <th>D39</th>\n",
              "      <th>...</th>\n",
              "      <th>D1737</th>\n",
              "      <th>D1738</th>\n",
              "      <th>D1739</th>\n",
              "      <th>D1740</th>\n",
              "      <th>D1741</th>\n",
              "      <th>D1742</th>\n",
              "      <th>D1743</th>\n",
              "      <th>D1744</th>\n",
              "      <th>D1745</th>\n",
              "      <th>D1746</th>\n",
              "      <th>D1747</th>\n",
              "      <th>D1748</th>\n",
              "      <th>D1749</th>\n",
              "      <th>D1750</th>\n",
              "      <th>D1751</th>\n",
              "      <th>D1752</th>\n",
              "      <th>D1753</th>\n",
              "      <th>D1754</th>\n",
              "      <th>D1755</th>\n",
              "      <th>D1756</th>\n",
              "      <th>D1757</th>\n",
              "      <th>D1758</th>\n",
              "      <th>D1759</th>\n",
              "      <th>D1760</th>\n",
              "      <th>D1761</th>\n",
              "      <th>D1762</th>\n",
              "      <th>D1763</th>\n",
              "      <th>D1764</th>\n",
              "      <th>D1765</th>\n",
              "      <th>D1766</th>\n",
              "      <th>D1767</th>\n",
              "      <th>D1768</th>\n",
              "      <th>D1769</th>\n",
              "      <th>D1770</th>\n",
              "      <th>D1771</th>\n",
              "      <th>D1772</th>\n",
              "      <th>D1773</th>\n",
              "      <th>D1774</th>\n",
              "      <th>D1775</th>\n",
              "      <th>D1776</th>\n",
              "    </tr>\n",
              "  </thead>\n",
              "  <tbody>\n",
              "    <tr>\n",
              "      <th>0</th>\n",
              "      <td>1</td>\n",
              "      <td>0.000000</td>\n",
              "      <td>0.497009</td>\n",
              "      <td>0.10</td>\n",
              "      <td>0.0</td>\n",
              "      <td>0.132956</td>\n",
              "      <td>0.678031</td>\n",
              "      <td>0.273166</td>\n",
              "      <td>0.585445</td>\n",
              "      <td>0.743663</td>\n",
              "      <td>0.243144</td>\n",
              "      <td>0.187856</td>\n",
              "      <td>0.0000</td>\n",
              "      <td>0.000000</td>\n",
              "      <td>0.069000</td>\n",
              "      <td>0.362012</td>\n",
              "      <td>0.301773</td>\n",
              "      <td>0.597930</td>\n",
              "      <td>0.190813</td>\n",
              "      <td>0.107219</td>\n",
              "      <td>0.070500</td>\n",
              "      <td>0.00717</td>\n",
              "      <td>0.137931</td>\n",
              "      <td>1</td>\n",
              "      <td>0.00</td>\n",
              "      <td>0.496683</td>\n",
              "      <td>0.753131</td>\n",
              "      <td>1</td>\n",
              "      <td>1</td>\n",
              "      <td>0.000000</td>\n",
              "      <td>0.262919</td>\n",
              "      <td>0.077200</td>\n",
              "      <td>0.082700</td>\n",
              "      <td>0.200590</td>\n",
              "      <td>0.00000</td>\n",
              "      <td>0.000000</td>\n",
              "      <td>0.000000</td>\n",
              "      <td>0.00</td>\n",
              "      <td>0.162383</td>\n",
              "      <td>0.150153</td>\n",
              "      <td>...</td>\n",
              "      <td>0</td>\n",
              "      <td>0</td>\n",
              "      <td>0</td>\n",
              "      <td>0</td>\n",
              "      <td>0</td>\n",
              "      <td>0</td>\n",
              "      <td>0</td>\n",
              "      <td>0</td>\n",
              "      <td>0</td>\n",
              "      <td>0</td>\n",
              "      <td>0</td>\n",
              "      <td>0</td>\n",
              "      <td>0</td>\n",
              "      <td>0</td>\n",
              "      <td>0</td>\n",
              "      <td>0</td>\n",
              "      <td>0</td>\n",
              "      <td>0</td>\n",
              "      <td>0</td>\n",
              "      <td>0</td>\n",
              "      <td>0</td>\n",
              "      <td>0</td>\n",
              "      <td>0</td>\n",
              "      <td>0</td>\n",
              "      <td>0</td>\n",
              "      <td>0</td>\n",
              "      <td>0</td>\n",
              "      <td>0</td>\n",
              "      <td>0</td>\n",
              "      <td>0</td>\n",
              "      <td>0</td>\n",
              "      <td>0</td>\n",
              "      <td>0</td>\n",
              "      <td>0</td>\n",
              "      <td>0</td>\n",
              "      <td>0</td>\n",
              "      <td>0</td>\n",
              "      <td>0</td>\n",
              "      <td>0</td>\n",
              "      <td>0</td>\n",
              "    </tr>\n",
              "    <tr>\n",
              "      <th>1</th>\n",
              "      <td>1</td>\n",
              "      <td>0.366667</td>\n",
              "      <td>0.606291</td>\n",
              "      <td>0.05</td>\n",
              "      <td>0.0</td>\n",
              "      <td>0.111209</td>\n",
              "      <td>0.803455</td>\n",
              "      <td>0.106105</td>\n",
              "      <td>0.411754</td>\n",
              "      <td>0.836582</td>\n",
              "      <td>0.106480</td>\n",
              "      <td>0.101382</td>\n",
              "      <td>0.1875</td>\n",
              "      <td>0.193548</td>\n",
              "      <td>0.131001</td>\n",
              "      <td>0.350206</td>\n",
              "      <td>0.187419</td>\n",
              "      <td>0.762669</td>\n",
              "      <td>0.180473</td>\n",
              "      <td>0.329962</td>\n",
              "      <td>0.107681</td>\n",
              "      <td>0.01950</td>\n",
              "      <td>0.206897</td>\n",
              "      <td>0</td>\n",
              "      <td>0.75</td>\n",
              "      <td>0.449869</td>\n",
              "      <td>0.720484</td>\n",
              "      <td>0</td>\n",
              "      <td>0</td>\n",
              "      <td>0.666667</td>\n",
              "      <td>0.099400</td>\n",
              "      <td>0.289240</td>\n",
              "      <td>0.216710</td>\n",
              "      <td>0.100295</td>\n",
              "      <td>0.16958</td>\n",
              "      <td>0.235294</td>\n",
              "      <td>0.000000</td>\n",
              "      <td>0.00</td>\n",
              "      <td>0.119104</td>\n",
              "      <td>0.075100</td>\n",
              "      <td>...</td>\n",
              "      <td>0</td>\n",
              "      <td>1</td>\n",
              "      <td>1</td>\n",
              "      <td>0</td>\n",
              "      <td>0</td>\n",
              "      <td>0</td>\n",
              "      <td>1</td>\n",
              "      <td>1</td>\n",
              "      <td>0</td>\n",
              "      <td>1</td>\n",
              "      <td>0</td>\n",
              "      <td>0</td>\n",
              "      <td>1</td>\n",
              "      <td>0</td>\n",
              "      <td>1</td>\n",
              "      <td>1</td>\n",
              "      <td>1</td>\n",
              "      <td>0</td>\n",
              "      <td>0</td>\n",
              "      <td>0</td>\n",
              "      <td>1</td>\n",
              "      <td>0</td>\n",
              "      <td>0</td>\n",
              "      <td>0</td>\n",
              "      <td>1</td>\n",
              "      <td>0</td>\n",
              "      <td>1</td>\n",
              "      <td>1</td>\n",
              "      <td>0</td>\n",
              "      <td>0</td>\n",
              "      <td>1</td>\n",
              "      <td>1</td>\n",
              "      <td>1</td>\n",
              "      <td>1</td>\n",
              "      <td>0</td>\n",
              "      <td>1</td>\n",
              "      <td>0</td>\n",
              "      <td>0</td>\n",
              "      <td>1</td>\n",
              "      <td>0</td>\n",
              "    </tr>\n",
              "    <tr>\n",
              "      <th>2</th>\n",
              "      <td>1</td>\n",
              "      <td>0.033300</td>\n",
              "      <td>0.480124</td>\n",
              "      <td>0.00</td>\n",
              "      <td>0.0</td>\n",
              "      <td>0.209791</td>\n",
              "      <td>0.610350</td>\n",
              "      <td>0.356453</td>\n",
              "      <td>0.517720</td>\n",
              "      <td>0.679051</td>\n",
              "      <td>0.352308</td>\n",
              "      <td>0.193548</td>\n",
              "      <td>0.1250</td>\n",
              "      <td>0.000000</td>\n",
              "      <td>0.068900</td>\n",
              "      <td>0.574628</td>\n",
              "      <td>0.283327</td>\n",
              "      <td>0.510633</td>\n",
              "      <td>0.184480</td>\n",
              "      <td>0.073300</td>\n",
              "      <td>0.061600</td>\n",
              "      <td>0.00566</td>\n",
              "      <td>0.000000</td>\n",
              "      <td>1</td>\n",
              "      <td>0.00</td>\n",
              "      <td>0.486610</td>\n",
              "      <td>0.803577</td>\n",
              "      <td>0</td>\n",
              "      <td>1</td>\n",
              "      <td>0.000000</td>\n",
              "      <td>0.428659</td>\n",
              "      <td>0.032400</td>\n",
              "      <td>0.072400</td>\n",
              "      <td>0.000000</td>\n",
              "      <td>0.03930</td>\n",
              "      <td>0.000000</td>\n",
              "      <td>0.000000</td>\n",
              "      <td>0.00</td>\n",
              "      <td>0.076100</td>\n",
              "      <td>0.225229</td>\n",
              "      <td>...</td>\n",
              "      <td>0</td>\n",
              "      <td>0</td>\n",
              "      <td>0</td>\n",
              "      <td>0</td>\n",
              "      <td>0</td>\n",
              "      <td>0</td>\n",
              "      <td>0</td>\n",
              "      <td>0</td>\n",
              "      <td>0</td>\n",
              "      <td>0</td>\n",
              "      <td>0</td>\n",
              "      <td>0</td>\n",
              "      <td>0</td>\n",
              "      <td>0</td>\n",
              "      <td>0</td>\n",
              "      <td>0</td>\n",
              "      <td>0</td>\n",
              "      <td>0</td>\n",
              "      <td>0</td>\n",
              "      <td>0</td>\n",
              "      <td>0</td>\n",
              "      <td>0</td>\n",
              "      <td>0</td>\n",
              "      <td>0</td>\n",
              "      <td>0</td>\n",
              "      <td>0</td>\n",
              "      <td>0</td>\n",
              "      <td>0</td>\n",
              "      <td>0</td>\n",
              "      <td>0</td>\n",
              "      <td>0</td>\n",
              "      <td>0</td>\n",
              "      <td>0</td>\n",
              "      <td>0</td>\n",
              "      <td>0</td>\n",
              "      <td>0</td>\n",
              "      <td>0</td>\n",
              "      <td>0</td>\n",
              "      <td>0</td>\n",
              "      <td>0</td>\n",
              "    </tr>\n",
              "    <tr>\n",
              "      <th>3</th>\n",
              "      <td>1</td>\n",
              "      <td>0.000000</td>\n",
              "      <td>0.538825</td>\n",
              "      <td>0.00</td>\n",
              "      <td>0.5</td>\n",
              "      <td>0.196344</td>\n",
              "      <td>0.724230</td>\n",
              "      <td>0.235606</td>\n",
              "      <td>0.288764</td>\n",
              "      <td>0.805110</td>\n",
              "      <td>0.208989</td>\n",
              "      <td>0.000000</td>\n",
              "      <td>0.0000</td>\n",
              "      <td>0.000000</td>\n",
              "      <td>0.145947</td>\n",
              "      <td>0.584688</td>\n",
              "      <td>0.325247</td>\n",
              "      <td>0.496745</td>\n",
              "      <td>0.242288</td>\n",
              "      <td>0.087700</td>\n",
              "      <td>0.075300</td>\n",
              "      <td>0.01680</td>\n",
              "      <td>0.000000</td>\n",
              "      <td>1</td>\n",
              "      <td>0.00</td>\n",
              "      <td>0.459122</td>\n",
              "      <td>0.829482</td>\n",
              "      <td>0</td>\n",
              "      <td>1</td>\n",
              "      <td>0.000000</td>\n",
              "      <td>0.435410</td>\n",
              "      <td>0.118562</td>\n",
              "      <td>0.000000</td>\n",
              "      <td>0.000000</td>\n",
              "      <td>0.00000</td>\n",
              "      <td>0.000000</td>\n",
              "      <td>0.000000</td>\n",
              "      <td>0.00</td>\n",
              "      <td>0.068900</td>\n",
              "      <td>0.000000</td>\n",
              "      <td>...</td>\n",
              "      <td>0</td>\n",
              "      <td>0</td>\n",
              "      <td>0</td>\n",
              "      <td>0</td>\n",
              "      <td>0</td>\n",
              "      <td>0</td>\n",
              "      <td>0</td>\n",
              "      <td>0</td>\n",
              "      <td>0</td>\n",
              "      <td>0</td>\n",
              "      <td>0</td>\n",
              "      <td>0</td>\n",
              "      <td>0</td>\n",
              "      <td>0</td>\n",
              "      <td>0</td>\n",
              "      <td>0</td>\n",
              "      <td>0</td>\n",
              "      <td>0</td>\n",
              "      <td>0</td>\n",
              "      <td>0</td>\n",
              "      <td>0</td>\n",
              "      <td>0</td>\n",
              "      <td>0</td>\n",
              "      <td>0</td>\n",
              "      <td>0</td>\n",
              "      <td>0</td>\n",
              "      <td>0</td>\n",
              "      <td>0</td>\n",
              "      <td>0</td>\n",
              "      <td>0</td>\n",
              "      <td>0</td>\n",
              "      <td>0</td>\n",
              "      <td>0</td>\n",
              "      <td>0</td>\n",
              "      <td>0</td>\n",
              "      <td>0</td>\n",
              "      <td>0</td>\n",
              "      <td>0</td>\n",
              "      <td>0</td>\n",
              "      <td>0</td>\n",
              "    </tr>\n",
              "    <tr>\n",
              "      <th>4</th>\n",
              "      <td>0</td>\n",
              "      <td>0.100000</td>\n",
              "      <td>0.517794</td>\n",
              "      <td>0.00</td>\n",
              "      <td>0.0</td>\n",
              "      <td>0.494734</td>\n",
              "      <td>0.781422</td>\n",
              "      <td>0.154361</td>\n",
              "      <td>0.303809</td>\n",
              "      <td>0.812646</td>\n",
              "      <td>0.125177</td>\n",
              "      <td>0.532258</td>\n",
              "      <td>0.0000</td>\n",
              "      <td>0.000000</td>\n",
              "      <td>0.094900</td>\n",
              "      <td>0.540323</td>\n",
              "      <td>0.116775</td>\n",
              "      <td>0.552982</td>\n",
              "      <td>0.167897</td>\n",
              "      <td>0.116140</td>\n",
              "      <td>0.054200</td>\n",
              "      <td>0.01350</td>\n",
              "      <td>0.103448</td>\n",
              "      <td>1</td>\n",
              "      <td>0.00</td>\n",
              "      <td>0.381883</td>\n",
              "      <td>0.913374</td>\n",
              "      <td>0</td>\n",
              "      <td>1</td>\n",
              "      <td>0.000000</td>\n",
              "      <td>0.305333</td>\n",
              "      <td>0.054100</td>\n",
              "      <td>0.170822</td>\n",
              "      <td>0.000000</td>\n",
              "      <td>0.00000</td>\n",
              "      <td>0.176471</td>\n",
              "      <td>0.000000</td>\n",
              "      <td>0.00</td>\n",
              "      <td>0.019900</td>\n",
              "      <td>0.057400</td>\n",
              "      <td>...</td>\n",
              "      <td>0</td>\n",
              "      <td>0</td>\n",
              "      <td>0</td>\n",
              "      <td>0</td>\n",
              "      <td>0</td>\n",
              "      <td>0</td>\n",
              "      <td>0</td>\n",
              "      <td>0</td>\n",
              "      <td>0</td>\n",
              "      <td>0</td>\n",
              "      <td>0</td>\n",
              "      <td>0</td>\n",
              "      <td>0</td>\n",
              "      <td>0</td>\n",
              "      <td>0</td>\n",
              "      <td>0</td>\n",
              "      <td>0</td>\n",
              "      <td>0</td>\n",
              "      <td>0</td>\n",
              "      <td>0</td>\n",
              "      <td>0</td>\n",
              "      <td>0</td>\n",
              "      <td>0</td>\n",
              "      <td>0</td>\n",
              "      <td>0</td>\n",
              "      <td>0</td>\n",
              "      <td>0</td>\n",
              "      <td>0</td>\n",
              "      <td>0</td>\n",
              "      <td>0</td>\n",
              "      <td>0</td>\n",
              "      <td>0</td>\n",
              "      <td>0</td>\n",
              "      <td>0</td>\n",
              "      <td>0</td>\n",
              "      <td>0</td>\n",
              "      <td>0</td>\n",
              "      <td>0</td>\n",
              "      <td>0</td>\n",
              "      <td>0</td>\n",
              "    </tr>\n",
              "    <tr>\n",
              "      <th>...</th>\n",
              "      <td>...</td>\n",
              "      <td>...</td>\n",
              "      <td>...</td>\n",
              "      <td>...</td>\n",
              "      <td>...</td>\n",
              "      <td>...</td>\n",
              "      <td>...</td>\n",
              "      <td>...</td>\n",
              "      <td>...</td>\n",
              "      <td>...</td>\n",
              "      <td>...</td>\n",
              "      <td>...</td>\n",
              "      <td>...</td>\n",
              "      <td>...</td>\n",
              "      <td>...</td>\n",
              "      <td>...</td>\n",
              "      <td>...</td>\n",
              "      <td>...</td>\n",
              "      <td>...</td>\n",
              "      <td>...</td>\n",
              "      <td>...</td>\n",
              "      <td>...</td>\n",
              "      <td>...</td>\n",
              "      <td>...</td>\n",
              "      <td>...</td>\n",
              "      <td>...</td>\n",
              "      <td>...</td>\n",
              "      <td>...</td>\n",
              "      <td>...</td>\n",
              "      <td>...</td>\n",
              "      <td>...</td>\n",
              "      <td>...</td>\n",
              "      <td>...</td>\n",
              "      <td>...</td>\n",
              "      <td>...</td>\n",
              "      <td>...</td>\n",
              "      <td>...</td>\n",
              "      <td>...</td>\n",
              "      <td>...</td>\n",
              "      <td>...</td>\n",
              "      <td>...</td>\n",
              "      <td>...</td>\n",
              "      <td>...</td>\n",
              "      <td>...</td>\n",
              "      <td>...</td>\n",
              "      <td>...</td>\n",
              "      <td>...</td>\n",
              "      <td>...</td>\n",
              "      <td>...</td>\n",
              "      <td>...</td>\n",
              "      <td>...</td>\n",
              "      <td>...</td>\n",
              "      <td>...</td>\n",
              "      <td>...</td>\n",
              "      <td>...</td>\n",
              "      <td>...</td>\n",
              "      <td>...</td>\n",
              "      <td>...</td>\n",
              "      <td>...</td>\n",
              "      <td>...</td>\n",
              "      <td>...</td>\n",
              "      <td>...</td>\n",
              "      <td>...</td>\n",
              "      <td>...</td>\n",
              "      <td>...</td>\n",
              "      <td>...</td>\n",
              "      <td>...</td>\n",
              "      <td>...</td>\n",
              "      <td>...</td>\n",
              "      <td>...</td>\n",
              "      <td>...</td>\n",
              "      <td>...</td>\n",
              "      <td>...</td>\n",
              "      <td>...</td>\n",
              "      <td>...</td>\n",
              "      <td>...</td>\n",
              "      <td>...</td>\n",
              "      <td>...</td>\n",
              "      <td>...</td>\n",
              "      <td>...</td>\n",
              "      <td>...</td>\n",
              "    </tr>\n",
              "    <tr>\n",
              "      <th>3746</th>\n",
              "      <td>1</td>\n",
              "      <td>0.033300</td>\n",
              "      <td>0.506409</td>\n",
              "      <td>0.10</td>\n",
              "      <td>0.0</td>\n",
              "      <td>0.209887</td>\n",
              "      <td>0.633426</td>\n",
              "      <td>0.297659</td>\n",
              "      <td>0.376124</td>\n",
              "      <td>0.727093</td>\n",
              "      <td>0.308163</td>\n",
              "      <td>0.000000</td>\n",
              "      <td>0.0000</td>\n",
              "      <td>0.000000</td>\n",
              "      <td>0.071800</td>\n",
              "      <td>0.362006</td>\n",
              "      <td>0.229374</td>\n",
              "      <td>0.603893</td>\n",
              "      <td>0.129706</td>\n",
              "      <td>0.092400</td>\n",
              "      <td>0.036100</td>\n",
              "      <td>0.00473</td>\n",
              "      <td>0.069000</td>\n",
              "      <td>1</td>\n",
              "      <td>0.00</td>\n",
              "      <td>0.486439</td>\n",
              "      <td>0.783710</td>\n",
              "      <td>1</td>\n",
              "      <td>1</td>\n",
              "      <td>0.000000</td>\n",
              "      <td>0.364694</td>\n",
              "      <td>0.136861</td>\n",
              "      <td>0.047300</td>\n",
              "      <td>0.100295</td>\n",
              "      <td>0.00000</td>\n",
              "      <td>0.000000</td>\n",
              "      <td>0.000000</td>\n",
              "      <td>0.00</td>\n",
              "      <td>0.223324</td>\n",
              "      <td>0.000000</td>\n",
              "      <td>...</td>\n",
              "      <td>0</td>\n",
              "      <td>0</td>\n",
              "      <td>0</td>\n",
              "      <td>0</td>\n",
              "      <td>0</td>\n",
              "      <td>0</td>\n",
              "      <td>0</td>\n",
              "      <td>0</td>\n",
              "      <td>0</td>\n",
              "      <td>0</td>\n",
              "      <td>0</td>\n",
              "      <td>0</td>\n",
              "      <td>0</td>\n",
              "      <td>0</td>\n",
              "      <td>0</td>\n",
              "      <td>0</td>\n",
              "      <td>0</td>\n",
              "      <td>0</td>\n",
              "      <td>0</td>\n",
              "      <td>0</td>\n",
              "      <td>0</td>\n",
              "      <td>0</td>\n",
              "      <td>0</td>\n",
              "      <td>0</td>\n",
              "      <td>0</td>\n",
              "      <td>0</td>\n",
              "      <td>0</td>\n",
              "      <td>0</td>\n",
              "      <td>0</td>\n",
              "      <td>0</td>\n",
              "      <td>0</td>\n",
              "      <td>0</td>\n",
              "      <td>0</td>\n",
              "      <td>0</td>\n",
              "      <td>0</td>\n",
              "      <td>0</td>\n",
              "      <td>0</td>\n",
              "      <td>0</td>\n",
              "      <td>0</td>\n",
              "      <td>0</td>\n",
              "    </tr>\n",
              "    <tr>\n",
              "      <th>3747</th>\n",
              "      <td>1</td>\n",
              "      <td>0.133333</td>\n",
              "      <td>0.651023</td>\n",
              "      <td>0.15</td>\n",
              "      <td>0.0</td>\n",
              "      <td>0.151154</td>\n",
              "      <td>0.766505</td>\n",
              "      <td>0.170876</td>\n",
              "      <td>0.404546</td>\n",
              "      <td>0.787935</td>\n",
              "      <td>0.192527</td>\n",
              "      <td>0.085200</td>\n",
              "      <td>0.2500</td>\n",
              "      <td>0.064500</td>\n",
              "      <td>0.121309</td>\n",
              "      <td>0.347521</td>\n",
              "      <td>0.250846</td>\n",
              "      <td>0.660747</td>\n",
              "      <td>0.221975</td>\n",
              "      <td>0.167944</td>\n",
              "      <td>0.065700</td>\n",
              "      <td>0.00939</td>\n",
              "      <td>0.172414</td>\n",
              "      <td>1</td>\n",
              "      <td>0.00</td>\n",
              "      <td>0.390864</td>\n",
              "      <td>0.815279</td>\n",
              "      <td>0</td>\n",
              "      <td>1</td>\n",
              "      <td>0.000000</td>\n",
              "      <td>0.153533</td>\n",
              "      <td>0.127563</td>\n",
              "      <td>0.122141</td>\n",
              "      <td>0.104815</td>\n",
              "      <td>0.08000</td>\n",
              "      <td>0.191429</td>\n",
              "      <td>0.146735</td>\n",
              "      <td>0.00</td>\n",
              "      <td>0.101137</td>\n",
              "      <td>0.075100</td>\n",
              "      <td>...</td>\n",
              "      <td>1</td>\n",
              "      <td>1</td>\n",
              "      <td>0</td>\n",
              "      <td>1</td>\n",
              "      <td>1</td>\n",
              "      <td>1</td>\n",
              "      <td>1</td>\n",
              "      <td>0</td>\n",
              "      <td>1</td>\n",
              "      <td>0</td>\n",
              "      <td>0</td>\n",
              "      <td>1</td>\n",
              "      <td>0</td>\n",
              "      <td>0</td>\n",
              "      <td>0</td>\n",
              "      <td>0</td>\n",
              "      <td>1</td>\n",
              "      <td>1</td>\n",
              "      <td>1</td>\n",
              "      <td>0</td>\n",
              "      <td>1</td>\n",
              "      <td>0</td>\n",
              "      <td>0</td>\n",
              "      <td>0</td>\n",
              "      <td>1</td>\n",
              "      <td>1</td>\n",
              "      <td>1</td>\n",
              "      <td>1</td>\n",
              "      <td>1</td>\n",
              "      <td>0</td>\n",
              "      <td>0</td>\n",
              "      <td>0</td>\n",
              "      <td>1</td>\n",
              "      <td>0</td>\n",
              "      <td>1</td>\n",
              "      <td>0</td>\n",
              "      <td>1</td>\n",
              "      <td>0</td>\n",
              "      <td>0</td>\n",
              "      <td>0</td>\n",
              "    </tr>\n",
              "    <tr>\n",
              "      <th>3748</th>\n",
              "      <td>0</td>\n",
              "      <td>0.200000</td>\n",
              "      <td>0.520564</td>\n",
              "      <td>0.00</td>\n",
              "      <td>0.0</td>\n",
              "      <td>0.179949</td>\n",
              "      <td>0.768785</td>\n",
              "      <td>0.177341</td>\n",
              "      <td>0.471179</td>\n",
              "      <td>0.872241</td>\n",
              "      <td>0.122132</td>\n",
              "      <td>0.624027</td>\n",
              "      <td>0.1875</td>\n",
              "      <td>0.064500</td>\n",
              "      <td>0.091700</td>\n",
              "      <td>0.519094</td>\n",
              "      <td>0.243037</td>\n",
              "      <td>0.691896</td>\n",
              "      <td>0.215831</td>\n",
              "      <td>0.338637</td>\n",
              "      <td>0.290643</td>\n",
              "      <td>0.04450</td>\n",
              "      <td>0.103448</td>\n",
              "      <td>1</td>\n",
              "      <td>0.00</td>\n",
              "      <td>0.590995</td>\n",
              "      <td>0.581372</td>\n",
              "      <td>0</td>\n",
              "      <td>0</td>\n",
              "      <td>0.333333</td>\n",
              "      <td>0.128839</td>\n",
              "      <td>0.357203</td>\n",
              "      <td>0.077600</td>\n",
              "      <td>0.028500</td>\n",
              "      <td>0.06200</td>\n",
              "      <td>0.308468</td>\n",
              "      <td>0.166667</td>\n",
              "      <td>0.00</td>\n",
              "      <td>0.019900</td>\n",
              "      <td>0.377263</td>\n",
              "      <td>...</td>\n",
              "      <td>0</td>\n",
              "      <td>0</td>\n",
              "      <td>0</td>\n",
              "      <td>0</td>\n",
              "      <td>0</td>\n",
              "      <td>0</td>\n",
              "      <td>0</td>\n",
              "      <td>0</td>\n",
              "      <td>0</td>\n",
              "      <td>0</td>\n",
              "      <td>0</td>\n",
              "      <td>0</td>\n",
              "      <td>0</td>\n",
              "      <td>0</td>\n",
              "      <td>0</td>\n",
              "      <td>0</td>\n",
              "      <td>0</td>\n",
              "      <td>0</td>\n",
              "      <td>0</td>\n",
              "      <td>0</td>\n",
              "      <td>0</td>\n",
              "      <td>0</td>\n",
              "      <td>0</td>\n",
              "      <td>0</td>\n",
              "      <td>0</td>\n",
              "      <td>0</td>\n",
              "      <td>0</td>\n",
              "      <td>0</td>\n",
              "      <td>0</td>\n",
              "      <td>0</td>\n",
              "      <td>0</td>\n",
              "      <td>0</td>\n",
              "      <td>0</td>\n",
              "      <td>0</td>\n",
              "      <td>0</td>\n",
              "      <td>0</td>\n",
              "      <td>0</td>\n",
              "      <td>0</td>\n",
              "      <td>0</td>\n",
              "      <td>0</td>\n",
              "    </tr>\n",
              "    <tr>\n",
              "      <th>3749</th>\n",
              "      <td>1</td>\n",
              "      <td>0.100000</td>\n",
              "      <td>0.765646</td>\n",
              "      <td>0.00</td>\n",
              "      <td>0.0</td>\n",
              "      <td>0.536954</td>\n",
              "      <td>0.634936</td>\n",
              "      <td>0.342713</td>\n",
              "      <td>0.447162</td>\n",
              "      <td>0.672689</td>\n",
              "      <td>0.372936</td>\n",
              "      <td>0.319355</td>\n",
              "      <td>0.1875</td>\n",
              "      <td>0.000000</td>\n",
              "      <td>0.273901</td>\n",
              "      <td>0.549001</td>\n",
              "      <td>0.567326</td>\n",
              "      <td>0.427189</td>\n",
              "      <td>0.332955</td>\n",
              "      <td>0.168837</td>\n",
              "      <td>0.105198</td>\n",
              "      <td>0.02240</td>\n",
              "      <td>0.034500</td>\n",
              "      <td>1</td>\n",
              "      <td>0.00</td>\n",
              "      <td>0.471154</td>\n",
              "      <td>0.795728</td>\n",
              "      <td>1</td>\n",
              "      <td>1</td>\n",
              "      <td>0.000000</td>\n",
              "      <td>0.282592</td>\n",
              "      <td>0.005600</td>\n",
              "      <td>0.010300</td>\n",
              "      <td>0.070200</td>\n",
              "      <td>0.08590</td>\n",
              "      <td>0.058800</td>\n",
              "      <td>0.000000</td>\n",
              "      <td>0.25</td>\n",
              "      <td>0.000000</td>\n",
              "      <td>0.271839</td>\n",
              "      <td>...</td>\n",
              "      <td>0</td>\n",
              "      <td>0</td>\n",
              "      <td>0</td>\n",
              "      <td>0</td>\n",
              "      <td>0</td>\n",
              "      <td>0</td>\n",
              "      <td>0</td>\n",
              "      <td>0</td>\n",
              "      <td>0</td>\n",
              "      <td>0</td>\n",
              "      <td>0</td>\n",
              "      <td>0</td>\n",
              "      <td>0</td>\n",
              "      <td>0</td>\n",
              "      <td>0</td>\n",
              "      <td>0</td>\n",
              "      <td>0</td>\n",
              "      <td>0</td>\n",
              "      <td>0</td>\n",
              "      <td>0</td>\n",
              "      <td>0</td>\n",
              "      <td>0</td>\n",
              "      <td>0</td>\n",
              "      <td>0</td>\n",
              "      <td>0</td>\n",
              "      <td>0</td>\n",
              "      <td>0</td>\n",
              "      <td>0</td>\n",
              "      <td>0</td>\n",
              "      <td>0</td>\n",
              "      <td>0</td>\n",
              "      <td>0</td>\n",
              "      <td>0</td>\n",
              "      <td>0</td>\n",
              "      <td>0</td>\n",
              "      <td>0</td>\n",
              "      <td>0</td>\n",
              "      <td>0</td>\n",
              "      <td>0</td>\n",
              "      <td>0</td>\n",
              "    </tr>\n",
              "    <tr>\n",
              "      <th>3750</th>\n",
              "      <td>0</td>\n",
              "      <td>0.133333</td>\n",
              "      <td>0.533952</td>\n",
              "      <td>0.00</td>\n",
              "      <td>0.0</td>\n",
              "      <td>0.347966</td>\n",
              "      <td>0.757971</td>\n",
              "      <td>0.230667</td>\n",
              "      <td>0.272652</td>\n",
              "      <td>0.854116</td>\n",
              "      <td>0.140316</td>\n",
              "      <td>0.736973</td>\n",
              "      <td>0.1250</td>\n",
              "      <td>0.000000</td>\n",
              "      <td>0.097900</td>\n",
              "      <td>0.548488</td>\n",
              "      <td>0.170359</td>\n",
              "      <td>0.608174</td>\n",
              "      <td>0.198938</td>\n",
              "      <td>0.161527</td>\n",
              "      <td>0.302829</td>\n",
              "      <td>0.02470</td>\n",
              "      <td>0.069000</td>\n",
              "      <td>1</td>\n",
              "      <td>0.00</td>\n",
              "      <td>0.477220</td>\n",
              "      <td>0.821335</td>\n",
              "      <td>0</td>\n",
              "      <td>1</td>\n",
              "      <td>0.000000</td>\n",
              "      <td>0.221986</td>\n",
              "      <td>0.217089</td>\n",
              "      <td>0.000000</td>\n",
              "      <td>0.000000</td>\n",
              "      <td>0.00000</td>\n",
              "      <td>0.117647</td>\n",
              "      <td>0.333333</td>\n",
              "      <td>0.00</td>\n",
              "      <td>0.039900</td>\n",
              "      <td>0.106612</td>\n",
              "      <td>...</td>\n",
              "      <td>0</td>\n",
              "      <td>0</td>\n",
              "      <td>0</td>\n",
              "      <td>0</td>\n",
              "      <td>0</td>\n",
              "      <td>0</td>\n",
              "      <td>0</td>\n",
              "      <td>0</td>\n",
              "      <td>0</td>\n",
              "      <td>0</td>\n",
              "      <td>0</td>\n",
              "      <td>0</td>\n",
              "      <td>0</td>\n",
              "      <td>0</td>\n",
              "      <td>0</td>\n",
              "      <td>0</td>\n",
              "      <td>0</td>\n",
              "      <td>0</td>\n",
              "      <td>0</td>\n",
              "      <td>0</td>\n",
              "      <td>0</td>\n",
              "      <td>0</td>\n",
              "      <td>0</td>\n",
              "      <td>0</td>\n",
              "      <td>0</td>\n",
              "      <td>0</td>\n",
              "      <td>0</td>\n",
              "      <td>0</td>\n",
              "      <td>0</td>\n",
              "      <td>0</td>\n",
              "      <td>0</td>\n",
              "      <td>0</td>\n",
              "      <td>0</td>\n",
              "      <td>0</td>\n",
              "      <td>0</td>\n",
              "      <td>0</td>\n",
              "      <td>0</td>\n",
              "      <td>0</td>\n",
              "      <td>0</td>\n",
              "      <td>0</td>\n",
              "    </tr>\n",
              "  </tbody>\n",
              "</table>\n",
              "<p>3751 rows × 1777 columns</p>\n",
              "</div>"
            ],
            "text/plain": [
              "      Activity        D1        D2    D3  ...  D1773  D1774  D1775  D1776\n",
              "0            1  0.000000  0.497009  0.10  ...      0      0      0      0\n",
              "1            1  0.366667  0.606291  0.05  ...      0      0      1      0\n",
              "2            1  0.033300  0.480124  0.00  ...      0      0      0      0\n",
              "3            1  0.000000  0.538825  0.00  ...      0      0      0      0\n",
              "4            0  0.100000  0.517794  0.00  ...      0      0      0      0\n",
              "...        ...       ...       ...   ...  ...    ...    ...    ...    ...\n",
              "3746         1  0.033300  0.506409  0.10  ...      0      0      0      0\n",
              "3747         1  0.133333  0.651023  0.15  ...      1      0      0      0\n",
              "3748         0  0.200000  0.520564  0.00  ...      0      0      0      0\n",
              "3749         1  0.100000  0.765646  0.00  ...      0      0      0      0\n",
              "3750         0  0.133333  0.533952  0.00  ...      0      0      0      0\n",
              "\n",
              "[3751 rows x 1777 columns]"
            ]
          },
          "metadata": {
            "tags": []
          },
          "execution_count": 73
        }
      ]
    },
    {
      "cell_type": "code",
      "metadata": {
        "id": "DfU6EIzRqSUj"
      },
      "source": [
        "df_log_reg=data.iloc[:, 1:]\r\n",
        "y=data[['Activity']]"
      ],
      "execution_count": 74,
      "outputs": []
    },
    {
      "cell_type": "code",
      "metadata": {
        "id": "ya9A5GOtqUG3"
      },
      "source": [
        "scaler = StandardScaler()\r\n",
        "X=scaler.fit_transform(df_log_reg)"
      ],
      "execution_count": 75,
      "outputs": []
    },
    {
      "cell_type": "code",
      "metadata": {
        "id": "ju99rJrEqWKy"
      },
      "source": [
        "#Data is divided for training and testing, here 80% of data is used for training and 20% is used for testing the accurecy.\r\n",
        "X_train, X_test, y_train, y_test= train_test_split(X,y, test_size=0.2 , random_state=24 )"
      ],
      "execution_count": 76,
      "outputs": []
    },
    {
      "cell_type": "code",
      "metadata": {
        "colab": {
          "base_uri": "https://localhost:8080/"
        },
        "id": "s0A9RwcFqYkQ",
        "outputId": "e44fe9a1-c636-4877-81eb-04a411a5521a"
      },
      "source": [
        "#training the data using decision trees and random forests.\r\n",
        "# For small decision tree\r\n",
        "small_dt=DecisionTreeClassifier(max_depth=2, random_state=24)\r\n",
        "small_dt.fit(X_train, y_train.values.ravel())\r\n",
        "y_out=small_dt.predict(X_test)\r\n",
        "y_out_proba1 = small_dt.predict_proba(X_test)\r\n",
        "print('Small decision tree')\r\n",
        "print('Precision is', precision_score(y_test, y_out))\r\n",
        "print('Recall is ', recall_score(y_test, y_out))\r\n",
        "print('Accuracy is ', accuracy_score(y_test, y_out))\r\n",
        "print('F1 score is ', f1_score(y_test, y_out))\r\n",
        "print('Log loss is ', log_loss(y_test, y_out))\r\n",
        "roc1=roc_auc_score(y_test, y_out)\r\n",
        "print('roc_auc is ', roc1 )\r\n",
        "y_out_proba1"
      ],
      "execution_count": 77,
      "outputs": [
        {
          "output_type": "stream",
          "text": [
            "Small decision tree\n",
            "Precision is 0.7348643006263048\n",
            "Recall is  0.8321513002364066\n",
            "Accuracy is  0.7363515312916112\n",
            "F1 score is  0.7804878048780487\n",
            "Log loss is  9.106230725786885\n",
            "roc_auc is  0.7224780891425935\n"
          ],
          "name": "stdout"
        },
        {
          "output_type": "execute_result",
          "data": {
            "text/plain": [
              "array([[0.78817299, 0.21182701],\n",
              "       [0.19644181, 0.80355819],\n",
              "       [0.19644181, 0.80355819],\n",
              "       ...,\n",
              "       [0.78817299, 0.21182701],\n",
              "       [0.19644181, 0.80355819],\n",
              "       [0.19644181, 0.80355819]])"
            ]
          },
          "metadata": {
            "tags": []
          },
          "execution_count": 77
        }
      ]
    },
    {
      "cell_type": "code",
      "metadata": {
        "colab": {
          "base_uri": "https://localhost:8080/",
          "height": 428
        },
        "id": "LDO6h-CvPe2T",
        "outputId": "ef3ca821-a729-44b0-dc36-55ce3c6a1396"
      },
      "source": [
        "prec, rec, thresh = precision_recall_curve(y_test, y_out_proba1[:,1])\r\n",
        "plt.figure(figsize=(9, 6))\r\n",
        "plt.grid()\r\n",
        "plt.plot(thresh, prec[:-1], label=\"Precision\")\r\n",
        "plt.plot(thresh, rec[:-1], label=\"Recall\")\r\n",
        "plt.xlabel(u\"Threshold\",fontsize = 15)\r\n",
        "plt.title(u'Precision-Recall curve',fontsize = 15)\r\n",
        "plt.legend(fontsize = 15)"
      ],
      "execution_count": 78,
      "outputs": [
        {
          "output_type": "execute_result",
          "data": {
            "text/plain": [
              "<matplotlib.legend.Legend at 0x7f2f2d01b5c0>"
            ]
          },
          "metadata": {
            "tags": []
          },
          "execution_count": 78
        },
        {
          "output_type": "display_data",
          "data": {
            "image/png": "[encoded data removed]",
            "text/plain": [
              "<Figure size 648x432 with 1 Axes>"
            ]
          },
          "metadata": {
            "tags": []
          }
        }
      ]
    },
    {
      "cell_type": "code",
      "metadata": {
        "colab": {
          "base_uri": "https://localhost:8080/"
        },
        "id": "bJIcaV_ozw14",
        "outputId": "9554ddb0-851f-4c36-a293-83cd7eb289a7"
      },
      "source": [
        "#training the data using decision trees and random forests.\r\n",
        "# For deep decision tree\r\n",
        "deep_dt=DecisionTreeClassifier(max_depth=20, random_state=24)\r\n",
        "deep_dt.fit(X_train, y_train.values.ravel())\r\n",
        "y_out=deep_dt.predict(X_test)\r\n",
        "y_out_proba2 = deep_dt.predict_proba(X_test)\r\n",
        "print('deep decision tree')\r\n",
        "print('Precision is', precision_score(y_test, y_out))\r\n",
        "print('Recall is ', recall_score(y_test, y_out))\r\n",
        "print('Accuracy is ', accuracy_score(y_test, y_out))\r\n",
        "print('F1 score is ', f1_score(y_test, y_out))\r\n",
        "print('Log loss is ', log_loss(y_test, y_out))\r\n",
        "roc2=roc_auc_score(y_test, y_out)\r\n",
        "print('roc_auc is ', roc2 )\r\n",
        "y_out_proba2"
      ],
      "execution_count": 79,
      "outputs": [
        {
          "output_type": "stream",
          "text": [
            "deep decision tree\n",
            "Precision is 0.7403189066059226\n",
            "Recall is  0.7683215130023641\n",
            "Accuracy is  0.7177097203728362\n",
            "F1 score is  0.7540603248259862\n",
            "Log loss is  9.750082223472846\n",
            "roc_auc is  0.710380268696304\n"
          ],
          "name": "stdout"
        },
        {
          "output_type": "execute_result",
          "data": {
            "text/plain": [
              "array([[0.90873016, 0.09126984],\n",
              "       [0.05882353, 0.94117647],\n",
              "       [0.        , 1.        ],\n",
              "       ...,\n",
              "       [1.        , 0.        ],\n",
              "       [0.        , 1.        ],\n",
              "       [0.11811024, 0.88188976]])"
            ]
          },
          "metadata": {
            "tags": []
          },
          "execution_count": 79
        }
      ]
    },
    {
      "cell_type": "code",
      "metadata": {
        "colab": {
          "base_uri": "https://localhost:8080/",
          "height": 428
        },
        "id": "29bT9U5XPjIg",
        "outputId": "ecee8723-0805-4f61-c7e3-a2de9825cfc7"
      },
      "source": [
        "prec, rec, thresh = precision_recall_curve(y_test, y_out_proba2[:,1])\r\n",
        "plt.figure(figsize=(9, 6))\r\n",
        "plt.grid()\r\n",
        "plt.plot(thresh, prec[:-1], label=\"Precision\")\r\n",
        "plt.plot(thresh, rec[:-1], label=\"Recall\")\r\n",
        "plt.xlabel(u\"Threshold\",fontsize = 15)\r\n",
        "plt.title(u'Precision-Recall curve',fontsize = 15)\r\n",
        "plt.legend(fontsize = 15)"
      ],
      "execution_count": 80,
      "outputs": [
        {
          "output_type": "execute_result",
          "data": {
            "text/plain": [
              "<matplotlib.legend.Legend at 0x7f2f2d19ea58>"
            ]
          },
          "metadata": {
            "tags": []
          },
          "execution_count": 80
        },
        {
          "output_type": "display_data",
          "data": {
            "image/png": "[encoded data removed]",
            "text/plain": [
              "<Figure size 648x432 with 1 Axes>"
            ]
          },
          "metadata": {
            "tags": []
          }
        }
      ]
    },
    {
      "cell_type": "code",
      "metadata": {
        "colab": {
          "base_uri": "https://localhost:8080/"
        },
        "id": "z44O89Oe0VwA",
        "outputId": "88d036be-c2c7-45d3-a3f7-2b16b255e46d"
      },
      "source": [
        "#training the data using decision trees and random forests.\r\n",
        "# for Random forest with small tree\r\n",
        "small_rf=RandomForestClassifier(n_estimators = 50, max_depth = 2, random_state = 24)\r\n",
        "small_rf.fit(X_train, y_train.values.ravel())\r\n",
        "y_out=small_rf.predict(X_test)\r\n",
        "y_out_proba3 = small_rf.predict_proba(X_test)\r\n",
        "print('Random forest with small dicision tree')\r\n",
        "print('Precision is', precision_score(y_test, y_out))\r\n",
        "print('Recall is ', recall_score(y_test, y_out))\r\n",
        "print('Accuracy is ', accuracy_score(y_test, y_out))\r\n",
        "print('F1 score is ', f1_score(y_test, y_out))\r\n",
        "print('Log loss is ', log_loss(y_test, y_out))\r\n",
        "roc3=roc_auc_score(y_test, y_out)\r\n",
        "print('roc_auc is ', roc3 )\r\n",
        "y_out_proba3"
      ],
      "execution_count": 81,
      "outputs": [
        {
          "output_type": "stream",
          "text": [
            "Random forest with small dicision tree\n",
            "Precision is 0.712742980561555\n",
            "Recall is  0.7801418439716312\n",
            "Accuracy is  0.6990679094540613\n",
            "F1 score is  0.744920993227991\n",
            "Log loss is  10.393967791888189\n",
            "roc_auc is  0.6873270195467911\n"
          ],
          "name": "stdout"
        },
        {
          "output_type": "execute_result",
          "data": {
            "text/plain": [
              "array([[0.55038958, 0.44961042],\n",
              "       [0.40860815, 0.59139185],\n",
              "       [0.3764515 , 0.6235485 ],\n",
              "       ...,\n",
              "       [0.59747883, 0.40252117],\n",
              "       [0.40461729, 0.59538271],\n",
              "       [0.42052317, 0.57947683]])"
            ]
          },
          "metadata": {
            "tags": []
          },
          "execution_count": 81
        }
      ]
    },
    {
      "cell_type": "code",
      "metadata": {
        "colab": {
          "base_uri": "https://localhost:8080/",
          "height": 428
        },
        "id": "0NfTWz0N0z0f",
        "outputId": "2f42040b-78a5-42cc-e9ae-a47e2a57541a"
      },
      "source": [
        "prec, rec, thresh = precision_recall_curve(y_test, y_out_proba3[:,1])\r\n",
        "plt.figure(figsize=(9, 6))\r\n",
        "plt.grid()\r\n",
        "plt.plot(thresh, prec[:-1], label=\"Precision\")\r\n",
        "plt.plot(thresh, rec[:-1], label=\"Recall\")\r\n",
        "plt.xlabel(u\"Threshold\",fontsize = 15)\r\n",
        "plt.title(u'Precision-Recall curve',fontsize = 15)\r\n",
        "plt.legend(fontsize = 15)"
      ],
      "execution_count": 82,
      "outputs": [
        {
          "output_type": "execute_result",
          "data": {
            "text/plain": [
              "<matplotlib.legend.Legend at 0x7f2f2d0dbeb8>"
            ]
          },
          "metadata": {
            "tags": []
          },
          "execution_count": 82
        },
        {
          "output_type": "display_data",
          "data": {
            "image/png": "[encoded data removed]",
            "text/plain": [
              "<Figure size 648x432 with 1 Axes>"
            ]
          },
          "metadata": {
            "tags": []
          }
        }
      ]
    },
    {
      "cell_type": "code",
      "metadata": {
        "colab": {
          "base_uri": "https://localhost:8080/"
        },
        "id": "4CTi3oII00R-",
        "outputId": "fca920f7-b51b-4f56-fb26-d8711c5c7325"
      },
      "source": [
        "#training the data using decision trees and random forests.\r\n",
        "# For deep decision tree\r\n",
        "deep_rf=RandomForestClassifier(n_estimators = 50, max_depth = 20, random_state = 24)\r\n",
        "deep_rf.fit(X_train, y_train.values.ravel())\r\n",
        "y_out=deep_rf.predict(X_test)\r\n",
        "y_out_proba4 = deep_rf.predict_proba(X_test)\r\n",
        "print('random forest with deep decision tree')\r\n",
        "print('Precision is', precision_score(y_test, y_out))\r\n",
        "print('Recall is ', recall_score(y_test, y_out))\r\n",
        "print('Accuracy is ', accuracy_score(y_test, y_out))\r\n",
        "print('F1 score is ', f1_score(y_test, y_out))\r\n",
        "print('Log loss is ', log_loss(y_test, y_out))\r\n",
        "roc4=roc_auc_score(y_test, y_out)\r\n",
        "print('roc_auc is ', roc4 )\r\n",
        "y_out_proba4"
      ],
      "execution_count": 83,
      "outputs": [
        {
          "output_type": "stream",
          "text": [
            "random forest with deep decision tree\n",
            "Precision is 0.8097447795823666\n",
            "Recall is  0.8250591016548463\n",
            "Accuracy is  0.7922769640479361\n",
            "F1 score is  0.8173302107728337\n",
            "Log loss is  7.174586797064371\n",
            "roc_auc is  0.7875295508274232\n"
          ],
          "name": "stdout"
        },
        {
          "output_type": "execute_result",
          "data": {
            "text/plain": [
              "array([[0.89444215, 0.10555785],\n",
              "       [0.19969278, 0.80030722],\n",
              "       [0.235     , 0.765     ],\n",
              "       ...,\n",
              "       [0.89077473, 0.10922527],\n",
              "       [0.22      , 0.78      ],\n",
              "       [0.58      , 0.42      ]])"
            ]
          },
          "metadata": {
            "tags": []
          },
          "execution_count": 83
        }
      ]
    },
    {
      "cell_type": "code",
      "metadata": {
        "colab": {
          "base_uri": "https://localhost:8080/",
          "height": 428
        },
        "id": "E-bKOBLuPrUl",
        "outputId": "5c27f439-3dac-44cd-e752-a97a7858b59b"
      },
      "source": [
        "prec, rec, thresh = precision_recall_curve(y_test, y_out_proba4[:,1])\r\n",
        "plt.figure(figsize=(9, 6))\r\n",
        "plt.grid()\r\n",
        "plt.plot(thresh, prec[:-1], label=\"Precision\")\r\n",
        "plt.plot(thresh, rec[:-1], label=\"Recall\")\r\n",
        "plt.xlabel(u\"Threshold\",fontsize = 15)\r\n",
        "plt.title(u'Precision-Recall curve',fontsize = 15)\r\n",
        "plt.legend(fontsize = 15)"
      ],
      "execution_count": 84,
      "outputs": [
        {
          "output_type": "execute_result",
          "data": {
            "text/plain": [
              "<matplotlib.legend.Legend at 0x7f2f2ccd09b0>"
            ]
          },
          "metadata": {
            "tags": []
          },
          "execution_count": 84
        },
        {
          "output_type": "display_data",
          "data": {
            "image/png": "[encoded data removed]",
            "text/plain": [
              "<Figure size 648x432 with 1 Axes>"
            ]
          },
          "metadata": {
            "tags": []
          }
        }
      ]
    },
    {
      "cell_type": "code",
      "metadata": {
        "colab": {
          "base_uri": "https://localhost:8080/",
          "height": 428
        },
        "id": "pWM03Se731vE",
        "outputId": "65863855-7e12-4951-f820-e8dff1b62253"
      },
      "source": [
        "# ROC-curve\r\n",
        "from sklearn.metrics import roc_curve, roc_auc_score\r\n",
        "fpr1, tpr1, thr1 = roc_curve(y_test, y_out_proba1[:,1])\r\n",
        "fpr2, tpr2, thr2 = roc_curve(y_test, y_out_proba2[:,1])\r\n",
        "fpr3, tpr3, thr3 = roc_curve(y_test, y_out_proba3[:,1])\r\n",
        "fpr4, tpr4, thr4 = roc_curve(y_test, y_out_proba4[:,1])\r\n",
        "\r\n",
        "plt.figure(figsize = (9,6))\r\n",
        "plt.plot(fpr1, tpr1, label='small decision tree (AUC = ' + str(round(roc1,2))+')')\r\n",
        "plt.plot(fpr2, tpr2, label='deep decision tree (AUC = ' + str(round(roc2,2))+')')\r\n",
        "plt.plot(fpr3, tpr3, label='small decision tree (AUC = ' + str(round(roc3,2))+')')\r\n",
        "plt.plot(fpr4, tpr4, label='deep decision tree (AUC = ' + str(round(roc4,2))+')')\r\n",
        "\r\n",
        "plt.grid()\r\n",
        "plt.xlabel(\"false positive rate\",fontsize = 15)\r\n",
        "plt.ylabel(\"true positive rate\",fontsize = 15)\r\n",
        "plt.title(u\"ROC curve\",fontsize = 15)\r\n",
        "plt.legend(fontsize = 12)"
      ],
      "execution_count": 85,
      "outputs": [
        {
          "output_type": "execute_result",
          "data": {
            "text/plain": [
              "<matplotlib.legend.Legend at 0x7f2f2cc2e080>"
            ]
          },
          "metadata": {
            "tags": []
          },
          "execution_count": 85
        },
        {
          "output_type": "display_data",
          "data": {
            "image/png": "[encoded data removed]",
            "text/plain": [
              "<Figure size 648x432 with 1 Axes>"
            ]
          },
          "metadata": {
            "tags": []
          }
        }
      ]
    },
    {
      "cell_type": "code",
      "metadata": {
        "id": "x6_r5JLePxpT"
      },
      "source": [
        ""
      ],
      "execution_count": 85,
      "outputs": []
    },
    {
      "cell_type": "code",
      "metadata": {
        "id": "iOTfJTnJALSZ"
      },
      "source": [
        "# Training a random forest classifier\r\n",
        "clf = RandomForestClassifier(n_jobs=-1, random_state=1)\r\n",
        "clf.fit(X_train, y_train.values.ravel())\r\n",
        "y_scores=clf.predict_proba(X_test)[:, 1]\r\n",
        "p, r, thresholds = precision_recall_curve(y_test, y_scores)"
      ],
      "execution_count": 86,
      "outputs": []
    },
    {
      "cell_type": "code",
      "metadata": {
        "colab": {
          "base_uri": "https://localhost:8080/",
          "height": 312
        },
        "id": "ODrfweKkATUB",
        "outputId": "74c28b5e-66ec-4950-cec2-63c7bd078209"
      },
      "source": [
        "# plotting the recall presision score with respect to decision threshold to find the threshold where the recall is maximum.\r\n",
        "plt.title(\"Precision and Recall Scores as a function of the decision threshold\")\r\n",
        "plt.plot(thresholds, p[:-1], \"b--\", label=\"Precision\")\r\n",
        "plt.plot(thresholds, r[:-1], \"g-\", label=\"Recall\")\r\n",
        "plt.ylabel(\"Score\")\r\n",
        "plt.xlabel(\"Decision Threshold\")\r\n",
        "plt.legend(loc='best')"
      ],
      "execution_count": 87,
      "outputs": [
        {
          "output_type": "execute_result",
          "data": {
            "text/plain": [
              "<matplotlib.legend.Legend at 0x7f2f2b3c9860>"
            ]
          },
          "metadata": {
            "tags": []
          },
          "execution_count": 87
        },
        {
          "output_type": "display_data",
          "data": {
            "image/png": "[encoded data removed]",
            "text/plain": [
              "<Figure size 432x288 with 1 Axes>"
            ]
          },
          "metadata": {
            "tags": []
          }
        }
      ]
    },
    {
      "cell_type": "code",
      "metadata": {
        "id": "_IzLbVauAZ7j",
        "colab": {
          "base_uri": "https://localhost:8080/"
        },
        "outputId": "2708f85a-2d3e-4fe5-e701-521cb3a77384"
      },
      "source": [
        "# Function which changes the predicted classes by adjusting the decision threshold \r\n",
        "def adjusted_classes(y_scores, t):\r\n",
        "    return [1 if y >= t else 0 for y in y_scores]\r\n",
        "t=0.05\r\n",
        "y_pred_adj = adjusted_classes(y_scores, t)\r\n",
        "print(pd.DataFrame(confusion_matrix(y_test, y_pred_adj),\r\n",
        "                       columns=['pred_neg', 'pred_pos'], \r\n",
        "                       index=['neg', 'pos']))"
      ],
      "execution_count": 149,
      "outputs": [
        {
          "output_type": "stream",
          "text": [
            "     pred_neg  pred_pos\n",
            "neg        10       318\n",
            "pos         0       423\n"
          ],
          "name": "stdout"
        }
      ]
    },
    {
      "cell_type": "code",
      "metadata": {
        "colab": {
          "base_uri": "https://localhost:8080/"
        },
        "id": "oaqd-zlxYIoH",
        "outputId": "2b94b173-76c5-4332-ac05-5a65bc4c0a0c"
      },
      "source": [
        "print('Random forest classifier with zero Type 2 error')\r\n",
        "print('Precision is', precision_score(y_test, y_pred_adj))\r\n",
        "print('Recall is ', recall_score(y_test, y_pred_adj))\r\n",
        "print('Accuracy is ', accuracy_score(y_test, y_pred_adj))\r\n",
        "print('F1 score is ', f1_score(y_test, y_pred_adj))\r\n",
        "print('Log loss is ', log_loss(y_test, y_pred_adj))\r\n",
        "roc=roc_auc_score(y_test, y_pred_adj)\r\n",
        "print('roc_auc is ', roc )"
      ],
      "execution_count": 150,
      "outputs": [
        {
          "output_type": "stream",
          "text": [
            "Random forest classifier with zero Type 2 error\n",
            "Precision is 0.5708502024291497\n",
            "Recall is  1.0\n",
            "Accuracy is  0.5765645805592543\n",
            "F1 score is  0.7268041237113402\n",
            "Log loss is  14.625279847622368\n",
            "roc_auc is  0.5152439024390244\n"
          ],
          "name": "stdout"
        }
      ]
    },
    {
      "cell_type": "code",
      "metadata": {
        "colab": {
          "base_uri": "https://localhost:8080/",
          "height": 530
        },
        "id": "jA6cfEJpaY_c",
        "outputId": "b3bffdea-edae-4062-9933-a38b99f29721"
      },
      "source": [
        "    plt.figure(figsize=(8,8))\r\n",
        "    plt.title(\"Precision and Recall curve ^ = current threshold\")\r\n",
        "    plt.step(r, p, color='b', alpha=0.2,\r\n",
        "             where='post')\r\n",
        "    plt.fill_between(r, p, step='post', alpha=0.2,\r\n",
        "                     color='b')\r\n",
        "    plt.ylim([0.5, 1.01]);\r\n",
        "    plt.xlim([0.5, 1.01]);\r\n",
        "    plt.xlabel('Recall');\r\n",
        "    plt.ylabel('Precision');\r\n",
        "    \r\n",
        "    # plot the current threshold on the line\r\n",
        "    close_default_clf = np.argmin(np.abs(thresholds - t))\r\n",
        "    plt.plot(r[close_default_clf], p[close_default_clf], '^', c='k',\r\n",
        "            markersize=15)"
      ],
      "execution_count": 151,
      "outputs": [
        {
          "output_type": "execute_result",
          "data": {
            "text/plain": [
              "[<matplotlib.lines.Line2D at 0x7f2f2b17c630>]"
            ]
          },
          "metadata": {
            "tags": []
          },
          "execution_count": 151
        },
        {
          "output_type": "display_data",
          "data": {
            "image/png": "[encoded data removed]",
            "text/plain": [
              "<Figure size 576x576 with 1 Axes>"
            ]
          },
          "metadata": {
            "tags": []
          }
        }
      ]
    }
  ]
}