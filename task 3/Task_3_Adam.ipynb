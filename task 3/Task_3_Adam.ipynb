{
  "nbformat": 4,
  "nbformat_minor": 0,
  "metadata": {
    "colab": {
      "name": "Task_3_Adam.ipynb",
      "provenance": [],
      "collapsed_sections": []
    },
    "kernelspec": {
      "name": "python3",
      "display_name": "Python 3"
    }
  },
  "cells": [
    {
      "cell_type": "code",
      "metadata": {
        "id": "DMWDj0gvUEju"
      },
      "source": [
        "# Import required libraries.\r\n",
        "import pandas as pd\r\n",
        "import numpy as np\r\n",
        "from scipy import optimize\r\n",
        "from sklearn.model_selection import train_test_split\r\n",
        "import matplotlib.pyplot as plt\r\n",
        "from mpl_toolkits.mplot3d import Axes3D\r\n",
        "from matplotlib import cm\r\n",
        "from matplotlib.ticker import LinearLocator, FormatStrFormatter\r\n",
        "from IPython.display import HTML\r\n",
        "from matplotlib.animation import FuncAnimation\r\n",
        "import seaborn as sns\r\n",
        "%matplotlib inline\r\n",
        "sns.set_style('darkgrid')"
      ],
      "execution_count": null,
      "outputs": []
    },
    {
      "cell_type": "code",
      "metadata": {
        "colab": {
          "base_uri": "https://localhost:8080/"
        },
        "id": "nYdiFfClUHpl",
        "outputId": "eb7a1a2a-2439-43c7-a784-66fbb752be57"
      },
      "source": [
        "# mountiong the drive\r\n",
        "from google.colab import drive\r\n",
        "drive.mount('/content/drive/')\r\n"
      ],
      "execution_count": null,
      "outputs": [
        {
          "output_type": "stream",
          "text": [
            "Drive already mounted at /content/drive/; to attempt to forcibly remount, call drive.mount(\"/content/drive/\", force_remount=True).\n"
          ],
          "name": "stdout"
        }
      ]
    },
    {
      "cell_type": "code",
      "metadata": {
        "colab": {
          "base_uri": "https://localhost:8080/"
        },
        "id": "9jjTfjbVUKsK",
        "outputId": "6aef2e93-3530-45cd-f503-5f7b9bb0bfee"
      },
      "source": [
        "# Importing the data from the drive\r\n",
        "data=pd.read_csv(\"/content/drive/My Drive/colab data/bioresponse.csv\")\r\n",
        "X=data.iloc[:, 1:]\r\n",
        "Y=data[['Activity']]\r\n",
        "Y.value_counts(normalize=True)"
      ],
      "execution_count": null,
      "outputs": [
        {
          "output_type": "execute_result",
          "data": {
            "text/plain": [
              "Activity\n",
              "1           0.542255\n",
              "0           0.457745\n",
              "dtype: float64"
            ]
          },
          "metadata": {
            "tags": []
          },
          "execution_count": 63
        }
      ]
    },
    {
      "cell_type": "code",
      "metadata": {
        "id": "8zmS-_JRVBej"
      },
      "source": [
        "from sklearn.model_selection import train_test_split\r\n",
        "X_train, X_test, Y_train, Y_test= train_test_split(X,Y, test_size=0.25 , random_state=1234 )"
      ],
      "execution_count": null,
      "outputs": []
    },
    {
      "cell_type": "code",
      "metadata": {
        "id": "93NF7TDaVNVI"
      },
      "source": [
        "# sigmoid\r\n",
        "\r\n",
        "def sigmoid(z):\r\n",
        "    \"\"\"\r\n",
        "    Compute the sigmoid of z\r\n",
        "\r\n",
        "    Arguments:\r\n",
        "    z -- A scalar or numpy array of any size.\r\n",
        "\r\n",
        "    Return:\r\n",
        "    s -- sigmoid(z)\r\n",
        "    \"\"\"\r\n",
        "    s = 1./(1.+np.exp(-z))\r\n",
        "    \r\n",
        "    return s"
      ],
      "execution_count": null,
      "outputs": []
    },
    {
      "cell_type": "code",
      "metadata": {
        "id": "jew_OmcPVPqo"
      },
      "source": [
        "# initialize_with_zeros\r\n",
        "\r\n",
        "def initialize_with_zeros(dim):\r\n",
        "    \"\"\"\r\n",
        "    This function creates a vector of zeros of shape (dim, 1) for w and initializes b to 0.\r\n",
        "    \r\n",
        "    Argument:\r\n",
        "    dim -- size of the w vector we want (or number of parameters in this case)\r\n",
        "    \r\n",
        "    Returns:\r\n",
        "    w -- initialized vector of shape (dim, 1)\r\n",
        "    b -- initialized scalar (corresponds to the bias)\r\n",
        "    \"\"\"\r\n",
        "    w = np.zeros((dim,1))\r\n",
        "    b = np.ones(1)\r\n",
        "    \r\n",
        "    return w, b"
      ],
      "execution_count": null,
      "outputs": []
    },
    {
      "cell_type": "code",
      "metadata": {
        "id": "8mA0Y4iqVTil"
      },
      "source": [
        "# propagate\r\n",
        "\r\n",
        "def propagate(w, b, X, Y):\r\n",
        "    \"\"\"\r\n",
        "    Implement the cost function and its gradient for the propagation explained above\r\n",
        "\r\n",
        "    Arguments:\r\n",
        "    w -- weights, a numpy array of size which equals the number of features\r\n",
        "    b -- bias, a scalar\r\n",
        "    X -- data \r\n",
        "    Y -- true \"label\" vector (containing 0 and 1) of size (1, number of examples)\r\n",
        "\r\n",
        "    Return:\r\n",
        "    cost -- negative log-likelihood cost for logistic regression\r\n",
        "    dw -- gradient of the loss with respect to w, thus same shape as w\r\n",
        "    db -- gradient of the loss with respect to b, thus same shape as b\r\n",
        "    \r\n",
        "    \"\"\"\r\n",
        "    m = X.shape[1]\r\n",
        "    #print('number of objects = ',len(X))\r\n",
        "    \r\n",
        "    # FORWARD PROPAGATION (FROM X TO COST)\r\n",
        "    A = sigmoid(np.dot(w.T,X)+b[0] )                                 # compute activation\r\n",
        "    cost = -(1./m)*np.sum(Y*np.log(A)+(1-Y)*np.log(1-A),axis=1)   # compute cost\r\n",
        "    \r\n",
        "    # BACKWARD PROPAGATION (TO FIND GRAD)\r\n",
        "    dw = (1./m)*np.dot(X,(A-Y).T)\r\n",
        "    db = (1./m)*np.sum(A-Y,axis=1)\r\n",
        "\r\n",
        "    grads = {\"dw\": dw,\r\n",
        "             \"db\": db}\r\n",
        "    \r\n",
        "    return grads, cost"
      ],
      "execution_count": null,
      "outputs": []
    },
    {
      "cell_type": "code",
      "metadata": {
        "id": "Bu9uy7ayVXfQ"
      },
      "source": [
        "# optimize\r\n",
        "\r\n",
        "def adam(w, b, X, Y, num_iterations, alpha, print_cost = False):\r\n",
        "    \"\"\"\r\n",
        "    This function optimizes w and b by running a gradient descent algorithm\r\n",
        "    \r\n",
        "    Arguments:\r\n",
        "    w -- weights, a numpy array \r\n",
        "    b -- bias, a scalar\r\n",
        "    X -- data \r\n",
        "    Y -- true \"label\" vector (containing 0 and 1), of shape (1, number of examples)\r\n",
        "    num_iterations -- number of iterations of the optimization loop\r\n",
        "    learning_rate -- learning rate of the gradient descent update rule\r\n",
        "    print_cost -- True to print the loss every 100 steps\r\n",
        "    \r\n",
        "    Returns:\r\n",
        "    params -- dictionary containing the weights w and bias b\r\n",
        "    grads -- dictionary containing the gradients of the weights and bias with respect to the cost function\r\n",
        "    costs -- list of all the costs computed during the optimization, this will be used to plot the learning curve.\r\n",
        "    \r\n",
        "    \"\"\"\r\n",
        "    beta_1=0.9\r\n",
        "    beta_2=0.999\r\n",
        "    costs = []\r\n",
        "    eps=1e-8\r\n",
        "    m_w=np.zeros(w.shape)\r\n",
        "    v_w=np.zeros(w.shape)\r\n",
        "\r\n",
        "    m_b=np.zeros(b.shape)\r\n",
        "    v_b=np.zeros(b.shape)\r\n",
        "    grads, cost = propagate(w,b,X,Y)\r\n",
        "    costs.append(cost)\r\n",
        "    for i in range(1,num_iterations):       \r\n",
        "\r\n",
        "        # Cost and gradient calculation \r\n",
        "        grads, cost = propagate(w,b,X,Y)\r\n",
        "        dw = grads[\"dw\"]\r\n",
        "        db = grads[\"db\"]\r\n",
        "\r\n",
        "        m_w = beta_1 * m_w + (1.0 - beta_1) * dw\r\n",
        "        v_w = beta_2 * v_w + (1.0 - beta_2) * dw**2\r\n",
        "        mhat_w = m_w / (1.0 - beta_1**(i))\r\n",
        "        vhat_w =  v_w / (1.0 - beta_2**(i))\r\n",
        "\r\n",
        "        m_b = beta_1 * m_b + (1.0 - beta_1) * db\r\n",
        "        v_b = beta_2 * v_b + (1.0 - beta_2) * db**2\r\n",
        "        mhat_b = m_b / (1.0 - beta_1**(i))\r\n",
        "        vhat_b = v_b / (1.0 - beta_2**(i))\r\n",
        "        # Retrieve derivatives from grads\r\n",
        "        w=np.subtract(w , alpha*np.divide(mhat_w , (np.sqrt(vhat_w) + eps)))\r\n",
        "        b=np.subtract(b , alpha*np.divide(mhat_b , (np.sqrt(vhat_b) + eps)))\r\n",
        "        # update rule\r\n",
        "\r\n",
        "        \r\n",
        "        # Record the costs\r\n",
        "        #if i % 10 == 0:\r\n",
        "        costs.append(cost)\r\n",
        "        \r\n",
        "        # Print the cost every 100 training iterations\r\n",
        "        if print_cost and i % 100 == 0:\r\n",
        "            print (\"Cost after iteration %i: %f\" %(i, cost))\r\n",
        "    \r\n",
        "    params = {\"w\": w,\r\n",
        "              \"b\": b}\r\n",
        "    \r\n",
        "    grads = {\"dw\": dw,\r\n",
        "             \"db\": db}\r\n",
        "    \r\n",
        "    return params, grads, costs"
      ],
      "execution_count": null,
      "outputs": []
    },
    {
      "cell_type": "code",
      "metadata": {
        "id": "ZE3AL64GVX2S"
      },
      "source": [
        "# predict\r\n",
        "\r\n",
        "def predict(w, b, X):\r\n",
        "    '''\r\n",
        "    Predict whether the label is 0 or 1 using learned logistic regression parameters (w, b)\r\n",
        "    \r\n",
        "    Arguments:\r\n",
        "    w -- weights, a numpy array \r\n",
        "    b -- bias, a scalar\r\n",
        "    X -- data \r\n",
        "    \r\n",
        "    Returns:\r\n",
        "    Y_prediction -- a numpy array (vector) containing all predictions (0/1) for the examples in X\r\n",
        "    '''\r\n",
        "    \r\n",
        "    m = X.shape[1]\r\n",
        "    Y_prediction = np.zeros((1,m))\r\n",
        "    w = w.reshape(X.shape[0], 1)\r\n",
        "    \r\n",
        "    # Compute vector \"A\" predicting the probabilities \r\n",
        "    A = sigmoid(np.dot(w.T,X)+b[0])\r\n",
        "    \r\n",
        "    for i in range(A.shape[1]):\r\n",
        "        \r\n",
        "        # Convert probabilities A[0,i] to actual predictions p[0,i]\r\n",
        "        if (A[0,i]<=0.5):\r\n",
        "            Y_prediction[0][i]=0\r\n",
        "        else:\r\n",
        "            Y_prediction[0][i]=1\r\n",
        "    \r\n",
        "    return Y_prediction\r\n",
        "    "
      ],
      "execution_count": null,
      "outputs": []
    },
    {
      "cell_type": "code",
      "metadata": {
        "id": "sce-ENSZVas2"
      },
      "source": [
        "# model\r\n",
        "\r\n",
        "def model(X_train, Y_train, X_test, Y_test, optimize, num_iterations, learning_rate , print_cost = False):\r\n",
        "    \"\"\"\r\n",
        "    Builds the logistic regression model by calling the function we've implemented previously\r\n",
        "    \r\n",
        "    Arguments:\r\n",
        "    X_train -- training set represented by a numpy array \r\n",
        "    Y_train -- training labels represented by a numpy array (vector) of shape (1, m_train)\r\n",
        "    X_test -- test set represented by a numpy array \r\n",
        "    Y_test -- test labels represented by a numpy array (vector) of shape (1, m_test)\r\n",
        "    num_iterations -- hyperparameter representing the number of iterations to optimize the parameters\r\n",
        "    learning_rate -- hyperparameter representing the learning rate used in the update rule of optimize()\r\n",
        "    print_cost -- Set to true to print the cost every 100 iterations\r\n",
        "    \r\n",
        "    Returns:\r\n",
        "    d -- dictionary containing information about the model.\r\n",
        "    \"\"\"\r\n",
        "    np.random.seed(1234)\r\n",
        "    # initialize parameters with zeros \r\n",
        "    w, b = initialize_with_zeros(X_train.shape[0])\r\n",
        "\r\n",
        "    # Gradient descent\r\n",
        "    parameters, grads, costs = optimize(w, b, X_train, Y_train, num_iterations, learning_rate, print_cost)\r\n",
        "    \r\n",
        "    # Retrieve parameters w and b from dictionary \"parameters\"\r\n",
        "    w = parameters[\"w\"]\r\n",
        "    b = parameters[\"b\"]\r\n",
        "    \r\n",
        "    # Predict test/train set examples\r\n",
        "    Y_prediction_test = predict(w, b, X_test)\r\n",
        "    Y_prediction_train = predict(w, b, X_train)\r\n",
        "\r\n",
        "    # Print train/test Errors\r\n",
        "    accuracy_train=(100 - np.mean((np.abs(Y_prediction_train - Y_train)).values) * 100)\r\n",
        "    accuracy_test=(100 - np.mean((np.abs(Y_prediction_test - Y_test)).values) * 100)\r\n",
        "    accuracy={'train': accuracy_train, 'test':accuracy_test }\r\n",
        "\r\n",
        "    d = {\"costs\": costs,\r\n",
        "         \"Y_prediction_test\": Y_prediction_test, \r\n",
        "         \"Y_prediction_train\" : Y_prediction_train, \r\n",
        "         \"w\" : w, \r\n",
        "         \"b\" : b,\r\n",
        "         \"learning_rate\" : learning_rate,\r\n",
        "         \"num_iterations\": num_iterations}\r\n",
        "    \r\n",
        "    return accuracy, parameters, grads, costs"
      ],
      "execution_count": null,
      "outputs": []
    },
    {
      "cell_type": "code",
      "metadata": {
        "colab": {
          "base_uri": "https://localhost:8080/",
          "height": 480
        },
        "id": "HaGSmDgLVmrk",
        "outputId": "98b0554a-2a46-4e6a-98ae-dc8769566160"
      },
      "source": [
        "# Plotting the learning curve for adam model for the learning values =[0.5, 0.05, 0.005, 0.0005, 0.00005]\r\n",
        "# Caluclating the accuracy of the adam model for different learning rates\r\n",
        "accuracy_adam=[]\r\n",
        "cost_adam=[]\r\n",
        "num_iterations = 100\r\n",
        "np.random.seed(1234)\r\n",
        "print('Adams Model')\r\n",
        "j=[0.5,0.1,0.05,0.01,0.005]\r\n",
        "for i in j:\r\n",
        "  np.random.seed(1234)\r\n",
        "  dim = 1776\r\n",
        "  w, b = initialize_with_zeros(dim)\r\n",
        "  accuracy, params, grads, costs = model(X_train.T, Y_train.T, X_test.T, Y_test.T, adam, num_iterations , i, print_cost = False)\r\n",
        "  cost_adam.append(costs)\r\n",
        "  accuracy_adam.append(accuracy)\r\n",
        "  print('Accurecy of the model for learning rate: {}'.format(i))\r\n",
        "  print(accuracy)\r\n",
        "  plt.plot(np.arange(len(costs)), costs, label='Learning rate: {} '.format(i))\r\n",
        "  plt.legend()\r\n",
        "  plt.xlabel('epochs')\r\n",
        "  plt.ylabel('Loss function')\r\n",
        "  plt.title('Learning curves of Adams ')\r\n",
        "plt.ylim(0, 1)\r\n",
        "plt.show()"
      ],
      "execution_count": null,
      "outputs": [
        {
          "output_type": "stream",
          "text": [
            "Adams Model\n",
            "Accurecy of the model for learning rate: 0.5\n",
            "{'train': 90.79274795591894, 'test': 74.09381663113007}\n",
            "Accurecy of the model for learning rate: 0.1\n",
            "{'train': 86.77568432278706, 'test': 75.79957356076758}\n",
            "Accurecy of the model for learning rate: 0.05\n",
            "{'train': 85.67365801635265, 'test': 76.11940298507463}\n",
            "Accurecy of the model for learning rate: 0.01\n",
            "{'train': 84.46498400284393, 'test': 75.79957356076758}\n",
            "Accurecy of the model for learning rate: 0.005\n",
            "{'train': 83.29185922502666, 'test': 75.05330490405117}\n"
          ],
          "name": "stdout"
        },
        {
          "output_type": "display_data",
          "data": {
            "image/png": "[encoded data removed]",
            "text/plain": [
              "<Figure size 432x288 with 1 Axes>"
            ]
          },
          "metadata": {
            "tags": []
          }
        }
      ]
    }
  ]
}