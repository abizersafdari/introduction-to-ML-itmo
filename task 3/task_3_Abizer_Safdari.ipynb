{
  "nbformat": 4,
  "nbformat_minor": 0,
  "metadata": {
    "colab": {
      "name": "task_3_Abizer_Safdari.ipynb",
      "provenance": [],
      "collapsed_sections": []
    },
    "kernelspec": {
      "name": "python3",
      "display_name": "Python 3"
    }
  },
  "cells": [
    {
      "cell_type": "markdown",
      "metadata": {
        "id": "lalOxJp-lmgi"
      },
      "source": [
        "#Task3\r\n",
        "\r\n",
        "1.\tApply the logistic regression method using the functions in the notebook «Logistic Regression as a Neural Network – BP alg.ipynb” to predict the biological response of a molecule.\r\n",
        "\r\n",
        "  data: bioresponse.csv,\r\n",
        "\r\n",
        "  description from Kaggle: “The data is in the comma separated values (CSV) format. Each row in this data set represents a molecule. The first column contains experimental data describing a real biological response; the molecule was seen to elicit this response (1), or not (0). The remaining columns represent molecular descriptors (d1 through d1776), these are caclulated properties that can capture some of the characteristics of the molecule - for example size, shape, or elemental constitution. The descriptor matrix has been normalized.”). \r\n",
        "Use 75% of the dataset to train the model, and the rest of the data to estimate its accuracy.\r\n",
        "2.\tModify optimize() function to implement the stochastic gradient descent (SGD) method. Apply it to solve the problem from p.1.\r\n",
        "3.\tFor two modifications of gradient descent (pp. 1 and 2), plot the learning curves (dependence of the value of the loss function on the iteration number), apply models with different values of the learning rate (at least 5 different learning rates). How does it affect the accuracy of the model? \r\n",
        "4.\tImplement the Adam optimization method using the numpy library and compare the accuracy of the model fitted with it with the models trained by the classic GD and SGD algorithms.\r\n"
      ]
    },
    {
      "cell_type": "code",
      "metadata": {
        "id": "eWWDc8jUleUO"
      },
      "source": [
        "import numpy as np\r\n",
        "import pandas as pd\r\n",
        "import matplotlib.pyplot as plt\r\n",
        "import scipy\r\n",
        "%matplotlib inline"
      ],
      "execution_count": 112,
      "outputs": []
    },
    {
      "cell_type": "code",
      "metadata": {
        "colab": {
          "base_uri": "https://localhost:8080/"
        },
        "id": "xKR1IOLclwbS",
        "outputId": "726a9a75-7889-4d67-ee41-023ff8ba9b24"
      },
      "source": [
        "# mountiong the drive\r\n",
        "from google.colab import drive\r\n",
        "drive.mount('/content/drive/')"
      ],
      "execution_count": 113,
      "outputs": [
        {
          "output_type": "stream",
          "text": [
            "Drive already mounted at /content/drive/; to attempt to forcibly remount, call drive.mount(\"/content/drive/\", force_remount=True).\n"
          ],
          "name": "stdout"
        }
      ]
    },
    {
      "cell_type": "code",
      "metadata": {
        "id": "Pdcs7BBsmCMz"
      },
      "source": [
        "data=pd.read_csv(\"/content/drive/MyDrive/colab data/bioresponse.csv\")\r\n",
        "X=np.array(data.iloc[:,1:1777].values)\r\n",
        "Y=np.array(data.iloc[:,0].values)"
      ],
      "execution_count": 114,
      "outputs": []
    },
    {
      "cell_type": "code",
      "metadata": {
        "id": "39zSgNE_mXOb"
      },
      "source": [
        "from sklearn.model_selection import train_test_split\r\n",
        "X_train, X_test, Y_train, Y_test= train_test_split(X,Y, test_size=0.25 , random_state=1234 )"
      ],
      "execution_count": 115,
      "outputs": []
    },
    {
      "cell_type": "code",
      "metadata": {
        "id": "Ti4d7Gp6s_zw"
      },
      "source": [
        "X_train = X_train.T\r\n",
        "X_test = X_test.T\r\n",
        "Y_train = Y_train.T\r\n",
        "Y_test = Y_test.T"
      ],
      "execution_count": 116,
      "outputs": []
    },
    {
      "cell_type": "code",
      "metadata": {
        "id": "8vzianGxm1v8"
      },
      "source": [
        "# sigmoid\r\n",
        "\r\n",
        "def sigmoid(z):\r\n",
        "    \"\"\"\r\n",
        "    Compute the sigmoid of z\r\n",
        "\r\n",
        "    Arguments:\r\n",
        "    z -- A scalar or numpy array of any size.\r\n",
        "\r\n",
        "    Return:\r\n",
        "    s -- sigmoid(z)\r\n",
        "    \"\"\"\r\n",
        "    s = 1./(1.+np.exp(-z))\r\n",
        "    \r\n",
        "    return s"
      ],
      "execution_count": 117,
      "outputs": []
    },
    {
      "cell_type": "code",
      "metadata": {
        "id": "vPzOlv8om_5p"
      },
      "source": [
        "# initialize_with_zeros\r\n",
        "\r\n",
        "def initialize_with_zeros(dim):\r\n",
        "    \"\"\"\r\n",
        "    This function creates a vector of zeros of shape (dim, 1) for w and initializes b to 0.\r\n",
        "    \r\n",
        "    Argument:\r\n",
        "    dim -- size of the w vector we want (or number of parameters in this case)\r\n",
        "    \r\n",
        "    Returns:\r\n",
        "    w -- initialized vector of shape (dim, 1)\r\n",
        "    b -- initialized scalar (corresponds to the bias)\r\n",
        "    \"\"\"\r\n",
        "    w = np.zeros((dim,1))\r\n",
        "    b = 0.\r\n",
        "    \r\n",
        "    return w, b"
      ],
      "execution_count": 118,
      "outputs": []
    },
    {
      "cell_type": "code",
      "metadata": {
        "id": "c-M-SFLPnFti"
      },
      "source": [
        "# propagate\r\n",
        "\r\n",
        "def propagate(w, b, X, Y):\r\n",
        "    \"\"\"\r\n",
        "    Implement the cost function and its gradient for the propagation explained above\r\n",
        "\r\n",
        "    Arguments:\r\n",
        "    w -- weights, a numpy array of size which equals the number of features\r\n",
        "    b -- bias, a scalar\r\n",
        "    X -- data \r\n",
        "    Y -- true \"label\" vector (containing 0 and 1) of size (1, number of examples)\r\n",
        "\r\n",
        "    Return:\r\n",
        "    cost -- negative log-likelihood cost for logistic regression\r\n",
        "    dw -- gradient of the loss with respect to w, thus same shape as w\r\n",
        "    db -- gradient of the loss with respect to b, thus same shape as b\r\n",
        "    \r\n",
        "    \"\"\"\r\n",
        "    m = X.shape[1]\r\n",
        "    #print('number of objects = ',len(X))\r\n",
        "    \r\n",
        "    # FORWARD PROPAGATION (FROM X TO COST)\r\n",
        "    A = sigmoid(np.dot(w.T,X)+b )                                 # compute activation\r\n",
        "    cost = -(1./m)*np.sum(Y*np.log(A)+(1-Y)*np.log(1-A),axis=1)   # compute cost\r\n",
        "    \r\n",
        "    # BACKWARD PROPAGATION (TO FIND GRAD)\r\n",
        "    dw = (1./m)*np.dot(X,(A-Y).T)\r\n",
        "    db = (1./m)*np.sum(A-Y,axis=1)\r\n",
        "\r\n",
        "    grads = {\"dw\": dw,\r\n",
        "             \"db\": db}\r\n",
        "    \r\n",
        "    return grads, cost"
      ],
      "execution_count": 119,
      "outputs": []
    },
    {
      "cell_type": "code",
      "metadata": {
        "id": "vrScOBvYvxrL"
      },
      "source": [
        ""
      ],
      "execution_count": 119,
      "outputs": []
    },
    {
      "cell_type": "markdown",
      "metadata": {
        "id": "zwTvZPkoAsaD"
      },
      "source": [
        ""
      ]
    },
    {
      "cell_type": "code",
      "metadata": {
        "id": "Fz4zm6w8nOMW"
      },
      "source": [
        "# optimize gradient decendent\r\n",
        "\r\n",
        "def GD(w, b, X, Y, num_iterations, learning_rate, print_cost = False):\r\n",
        "    \"\"\"\r\n",
        "    This function optimizes w and b by running a gradient descent algorithm\r\n",
        "    \r\n",
        "    Arguments:\r\n",
        "    w -- weights, a numpy array \r\n",
        "    b -- bias, a scalar\r\n",
        "    X -- data \r\n",
        "    Y -- true \"label\" vector (containing 0 and 1), of shape (1, number of examples)\r\n",
        "    num_iterations -- number of iterations of the optimization loop\r\n",
        "    learning_rate -- learning rate of the gradient descent update rule\r\n",
        "    print_cost -- True to print the loss every 100 steps\r\n",
        "    \r\n",
        "    Returns:\r\n",
        "    params -- dictionary containing the weights w and bias b\r\n",
        "    grads -- dictionary containing the gradients of the weights and bias with respect to the cost function\r\n",
        "    costs -- list of all the costs computed during the optimization, this will be used to plot the learning curve.\r\n",
        "    \r\n",
        "    \"\"\"\r\n",
        "    \r\n",
        "    costs = []\r\n",
        "    \r\n",
        "    for i in range(num_iterations):\r\n",
        "                \r\n",
        "        # Cost and gradient calculation \r\n",
        "        grads, cost = propagate(w,b,X,Y)\r\n",
        "        \r\n",
        "        # Retrieve derivatives from grads\r\n",
        "        dw = grads[\"dw\"]\r\n",
        "        db = grads[\"db\"]\r\n",
        "        \r\n",
        "        # update rule\r\n",
        "        w -=learning_rate*dw\r\n",
        "        b -=learning_rate*db\r\n",
        "        \r\n",
        "        # Record the costs\r\n",
        "        if i % 1 == 0:\r\n",
        "            costs.append(cost)\r\n",
        "        \r\n",
        "        # Print the cost every 100 training iterations\r\n",
        "        if print_cost and i % 1 == 0:\r\n",
        "            print (\"Cost after iteration %i: %f\" %(i, cost))\r\n",
        "    \r\n",
        "    params = {\"w\": w,\r\n",
        "              \"b\": b}\r\n",
        "    \r\n",
        "    grads = {\"dw\": dw,\r\n",
        "             \"db\": db}\r\n",
        "    \r\n",
        "    return params, grads, costs"
      ],
      "execution_count": 132,
      "outputs": []
    },
    {
      "cell_type": "code",
      "metadata": {
        "id": "IPxcoBianVlc"
      },
      "source": [
        "# predict\r\n",
        "\r\n",
        "def predict(w, b, X):\r\n",
        "    '''\r\n",
        "    Predict whether the label is 0 or 1 using learned logistic regression parameters (w, b)\r\n",
        "    \r\n",
        "    Arguments:\r\n",
        "    w -- weights, a numpy array \r\n",
        "    b -- bias, a scalar\r\n",
        "    X -- data \r\n",
        "    \r\n",
        "    Returns:\r\n",
        "    Y_prediction -- a numpy array (vector) containing all predictions (0/1) for the examples in X\r\n",
        "    '''\r\n",
        "    \r\n",
        "    m = X.shape[1]\r\n",
        "    Y_prediction = np.zeros((1,m))\r\n",
        "    w = w.reshape(X.shape[0], 1)\r\n",
        "    \r\n",
        "    # Compute vector \"A\" predicting the probabilities \r\n",
        "    A = sigmoid(np.dot(w.T,X)+b)\r\n",
        "    \r\n",
        "    for i in range(A.shape[1]):\r\n",
        "        \r\n",
        "        # Convert probabilities A[0,i] to actual predictions p[0,i]\r\n",
        "        if (A[0,i]<=0.5):\r\n",
        "            Y_prediction[0][i]=0\r\n",
        "        else:\r\n",
        "            Y_prediction[0][i]=1\r\n",
        "    \r\n",
        "    return Y_prediction"
      ],
      "execution_count": 121,
      "outputs": []
    },
    {
      "cell_type": "code",
      "metadata": {
        "id": "96JAtHn4ojJS"
      },
      "source": [
        "# model\r\n",
        "\r\n",
        "def model1(X_train, Y_train, X_test, Y_test,opt, num_iterations = 2000, learning_rate = 0.5, print_cost = False):  \r\n",
        "    \"\"\"\r\n",
        "    Builds the logistic regression model by calling the function we've implemented previously\r\n",
        "    \r\n",
        "    Arguments:\r\n",
        "    X_train -- training set represented by a numpy array \r\n",
        "    Y_train -- training labels represented by a numpy array (vector) of shape (1, m_train)\r\n",
        "    X_test -- test set represented by a numpy array \r\n",
        "    Y_test -- test labels represented by a numpy array (vector) of shape (1, m_test)\r\n",
        "    num_iterations -- hyperparameter representing the number of iterations to optimize the parameters\r\n",
        "    learning_rate -- hyperparameter representing the learning rate used in the update rule of optimize()\r\n",
        "    print_cost -- Set to true to print the cost every 100 iterations\r\n",
        "    \r\n",
        "    Returns:\r\n",
        "    d -- dictionary containing information about the model.\r\n",
        "    \"\"\"\r\n",
        "    num_iterations = 2000\r\n",
        "    learning_rate = 0.5\r\n",
        "    # initialize parameters with zeros \r\n",
        "    w, b = initialize_with_zeros(X_train.shape[0])\r\n",
        "\r\n",
        "    # Gradient descent\r\n",
        "    parameters, grads, costs = SG(w, b, X_train, Y_train, num_iterations, learning_rate, print_cost)\r\n",
        "    \r\n",
        "    # Retrieve parameters w and b from dictionary \"parameters\"\r\n",
        "    w = parameters[\"w\"]\r\n",
        "    b = parameters[\"b\"]\r\n",
        "    \r\n",
        "    # Predict test/train set examples\r\n",
        "    Y_prediction_test = predict(w, b, X_test)\r\n",
        "    Y_prediction_train = predict(w, b, X_train)\r\n",
        "\r\n",
        "    # Print train/test Errors\r\n",
        "    print(\"train accuracy: {} %\".format(100 - np.mean(np.abs(Y_prediction_train - Y_train)) * 100))\r\n",
        "    print(\"test accuracy: {} %\".format(100 - np.mean(np.abs(Y_prediction_test - Y_test)) * 100))\r\n",
        "\r\n",
        "    d = {\"costs\": costs,\r\n",
        "         \"Y_prediction_test\": Y_prediction_test, \r\n",
        "         \"Y_prediction_train\" : Y_prediction_train, \r\n",
        "         \"w\" : w, \r\n",
        "         \"b\" : b,\r\n",
        "         \"learning_rate\" : learning_rate,\r\n",
        "         \"num_iterations\": num_iterations}\r\n",
        "    \r\n",
        "    return d"
      ],
      "execution_count": 126,
      "outputs": []
    },
    {
      "cell_type": "code",
      "metadata": {
        "colab": {
          "base_uri": "https://localhost:8080/"
        },
        "id": "yIXMNrayzYdB",
        "outputId": "2b097052-3b8b-46eb-ad3a-3ef9c5d9aae2"
      },
      "source": [
        "j=[0.5,0.1,0.05,0.01,0.005]\r\n",
        "for i in j:\r\n",
        "  print('Accurecy of the model for learning rate:',i)\r\n",
        "  m1 = model1(X_train, Y_train, X_test, Y_test, num_iterations = 2000, learning_rate = i, print_cost = False)"
      ],
      "execution_count": 145,
      "outputs": [
        {
          "output_type": "stream",
          "text": [
            "Accurecy of the model for learning rate: 0.5\n",
            "train accuracy: 76.67970138642019 %\n",
            "test accuracy: 68.23027718550107 %\n",
            "Accurecy of the model for learning rate: 0.1\n",
            "train accuracy: 76.67970138642019 %\n",
            "test accuracy: 68.23027718550107 %\n",
            "Accurecy of the model for learning rate: 0.05\n",
            "train accuracy: 76.67970138642019 %\n",
            "test accuracy: 68.23027718550107 %\n",
            "Accurecy of the model for learning rate: 0.01\n",
            "train accuracy: 76.67970138642019 %\n",
            "test accuracy: 68.23027718550107 %\n",
            "Accurecy of the model for learning rate: 0.005\n",
            "train accuracy: 76.67970138642019 %\n",
            "test accuracy: 68.23027718550107 %\n"
          ],
          "name": "stdout"
        }
      ]
    },
    {
      "cell_type": "code",
      "metadata": {
        "id": "E_qWb_tAyoPY"
      },
      "source": [
        "dim= X_train.shape[0]\r\n",
        "w, b = initialize_with_zeros(dim)\r\n",
        "params11, grads11, costs11=GD(w, b, X_train, Y_train, num_iterations=100, learning_rate=0.5, print_cost = False)\r\n",
        "params12, grads12, costs12=GD(w, b, X_train, Y_train, num_iterations=100, learning_rate=0.1, print_cost = False)\r\n",
        "params13, grads13, costs13=GD(w, b, X_train, Y_train, num_iterations=100, learning_rate=0.05, print_cost = False)\r\n",
        "params14, grads14, costs14=GD(w, b, X_train, Y_train, num_iterations=100, learning_rate=0.01, print_cost = False)\r\n",
        "params15, grads15, costs15=GD(w, b, X_train, Y_train, num_iterations=100, learning_rate=0.005, print_cost = False)"
      ],
      "execution_count": 147,
      "outputs": []
    },
    {
      "cell_type": "code",
      "metadata": {
        "colab": {
          "base_uri": "https://localhost:8080/",
          "height": 312
        },
        "id": "zLuy9O0nyqZQ",
        "outputId": "269861ec-27e5-4a85-fd5e-9bbbe7fc26e6"
      },
      "source": [
        "  values=np.arange(1,101)\r\n",
        "  plt.plot(values,costs11)\r\n",
        "  plt.plot(values,costs12)\r\n",
        "  plt.plot(values,costs13)\r\n",
        "  plt.plot(values,costs14)\r\n",
        "  plt.plot(values,costs15)\r\n",
        "  plt.legend(('0.5', \"0.1\",\"0.05\",\"0.01\",\"0.005\"),loc='upper left')\r\n",
        "  plt.ylabel(\"Loss\")\r\n",
        "  plt.xlabel(\"# Iterations\")\r\n",
        "  plt.title('Gradient Decend')"
      ],
      "execution_count": 148,
      "outputs": [
        {
          "output_type": "execute_result",
          "data": {
            "text/plain": [
              "Text(0.5, 1.0, 'Gradient Decend')"
            ]
          },
          "metadata": {
            "tags": []
          },
          "execution_count": 148
        },
        {
          "output_type": "display_data",
          "data": {
            "image/png": "[encoded data removed]",
            "text/plain": [
              "<Figure size 432x288 with 1 Axes>"
            ]
          },
          "metadata": {
            "tags": [],
            "needs_background": "light"
          }
        }
      ]
    },
    {
      "cell_type": "markdown",
      "metadata": {
        "id": "iH5VvexHLju9"
      },
      "source": [
        "Stochastic Gradient Decend"
      ]
    },
    {
      "cell_type": "code",
      "metadata": {
        "id": "gZ8c4aK4ODit"
      },
      "source": [
        "def SGD(w, b, X, Y, num_iterations, learning_rate, print_cost = False):\r\n",
        "    \r\n",
        "    costs = []\r\n",
        "    m = X.shape[1]\r\n",
        "    for i in range(num_iterations):\r\n",
        "        \r\n",
        "        for j in range(m):      \r\n",
        "            # Cost and gradient calculation \r\n",
        "            grads, cost = propagate(w,b,X,Y)\r\n",
        "        \r\n",
        "            # Retrieve derivatives from grads\r\n",
        "            dw = grads[\"dw\"]\r\n",
        "            db = grads[\"db\"]\r\n",
        "        \r\n",
        "            # update rule\r\n",
        "            w -=learning_rate*dw\r\n",
        "            b -=learning_rate*db\r\n",
        "        \r\n",
        "        # Record the costs\r\n",
        "        if i % 1 == 0:\r\n",
        "            costs.append(cost)\r\n",
        "        \r\n",
        "             # Print the cost every 100 training iterations\r\n",
        "        #if print_cost and i % 1 == 0:\r\n",
        "            #print (\"Cost after iteration %i: %f\" %(i, cost))\r\n",
        "    \r\n",
        "    params = {\"w\": w,\r\n",
        "              \"b\": b}\r\n",
        "    \r\n",
        "    grads = {\"dw\": dw,\r\n",
        "             \"db\": db}\r\n",
        "    \r\n",
        "    return params, grads, costs"
      ],
      "execution_count": 155,
      "outputs": []
    },
    {
      "cell_type": "code",
      "metadata": {
        "id": "mNrUa34XunW3"
      },
      "source": [
        "def model2(X_train, Y_train, X_test, Y_test, num_iterations = 2000, learning_rate = 0.5, print_cost = False):   \n",
        "    \n",
        "    # initialize parameters with zeros \n",
        "    w, b = initialize_with_zeros(X_train.shape[0])\n",
        "\n",
        "    # Gradient descent\n",
        "    parameters, grads, costs = SGD(w, b, X_train, Y_train, num_iterations, learning_rate, print_cost)\n",
        "    \n",
        "    # Retrieve parameters w and b from dictionary \"parameters\"\n",
        "    w = parameters[\"w\"]\n",
        "    b = parameters[\"b\"]\n",
        "    \n",
        "    # Predict test/train set examples\n",
        "    Y_prediction_test = predict(w, b, X_test)\n",
        "    Y_prediction_train = predict(w, b, X_train)\n",
        "\n",
        "    # Print train/test Errors\n",
        "    print(\"train accuracy: {} %\".format(100 - np.mean(np.abs(Y_prediction_train - Y_train)) * 100))\n",
        "    print(\"test accuracy: {} %\".format(100 - np.mean(np.abs(Y_prediction_test - Y_test)) * 100))\n",
        "\n",
        "    d = {\"costs\": costs,\n",
        "         \"Y_prediction_test\": Y_prediction_test, \n",
        "         \"Y_prediction_train\" : Y_prediction_train, \n",
        "         \"w\" : w, \n",
        "         \"b\" : b,\n",
        "         \"learning_rate\" : learning_rate,\n",
        "         \"num_iterations\": num_iterations}\n",
        "    \n",
        "    return d"
      ],
      "execution_count": 156,
      "outputs": []
    },
    {
      "cell_type": "code",
      "metadata": {
        "colab": {
          "base_uri": "https://localhost:8080/"
        },
        "id": "OTRdXtDjJsfn",
        "outputId": "87e97bf2-8ac8-41ae-fd34-9ebf8d2804ef"
      },
      "source": [
        "j=[0.5,0.1,0.05,0.01,0.005]\r\n",
        "for i in j:\r\n",
        "  print('Accurecy of the model for learning rate:',i)\r\n",
        "  m1 = model2(X_train, Y_train, X_test, Y_test, num_iterations = 10, learning_rate = i, print_cost = False)"
      ],
      "execution_count": 161,
      "outputs": [
        {
          "output_type": "stream",
          "text": [
            "Accurecy of the model for learning rate: 0.5\n",
            "train accuracy: 91.43263419836474 %\n",
            "test accuracy: 73.34754797441364 %\n",
            "Accurecy of the model for learning rate: 0.1\n",
            "train accuracy: 88.94418769996446 %\n",
            "test accuracy: 74.84008528784648 %\n",
            "Accurecy of the model for learning rate: 0.05\n",
            "train accuracy: 87.30892285815855 %\n",
            "test accuracy: 75.47974413646055 %\n",
            "Accurecy of the model for learning rate: 0.01\n",
            "train accuracy: 84.32278706007821 %\n",
            "test accuracy: 76.22601279317698 %\n",
            "Accurecy of the model for learning rate: 0.005\n",
            "train accuracy: 82.97191610380378 %\n",
            "test accuracy: 76.43923240938166 %\n"
          ],
          "name": "stdout"
        }
      ]
    },
    {
      "cell_type": "code",
      "metadata": {
        "id": "bqN33Atra5if"
      },
      "source": [
        "dim= X_train.shape[0]\r\n",
        "w, b = initialize_with_zeros(dim)\r\n",
        "params21, grads21, costs21=SGD(w, b, X_train, Y_train, num_iterations=10, learning_rate=0.1, print_cost = False)\r\n",
        "params22, grads22, costs22=SGD(w, b, X_train, Y_train, num_iterations=10, learning_rate=0.1, print_cost = False)\r\n",
        "params23, grads23, costs23=SGD(w, b, X_train, Y_train, num_iterations=10, learning_rate=0.05, print_cost = False)\r\n",
        "params24, grads24, costs24=SGD(w, b, X_train, Y_train, num_iterations=10, learning_rate=0.01, print_cost = False)\r\n",
        "params25, grads25, costs25=SGD(w, b, X_train, Y_train, num_iterations=10, learning_rate=0.005, print_cost = False)"
      ],
      "execution_count": 166,
      "outputs": []
    },
    {
      "cell_type": "code",
      "metadata": {
        "id": "ZQb9BSqPunW7",
        "colab": {
          "base_uri": "https://localhost:8080/",
          "height": 312
        },
        "outputId": "44ec473a-77ad-40f4-bd77-a70e15b89254"
      },
      "source": [
        "values=np.arange(1,11)\n",
        "plt.plot(values,costs21)\n",
        "plt.plot(values,costs22)\n",
        "plt.plot(values,costs23)\n",
        "plt.plot(values,costs24)\n",
        "plt.plot(values,costs25)\n",
        "plt.legend(('0.5', \"0.1\",\"0.05\",\"0.01\",\"0.005\"),loc='upper left')\n",
        "plt.ylabel(\"Loss\")\n",
        "plt.xlabel(\"# Iterations\")\n",
        "plt.title('Stochastic Gradient Descend')"
      ],
      "execution_count": 168,
      "outputs": [
        {
          "output_type": "execute_result",
          "data": {
            "text/plain": [
              "Text(0.5, 1.0, 'Stochastic Gradient Descend')"
            ]
          },
          "metadata": {
            "tags": []
          },
          "execution_count": 168
        },
        {
          "output_type": "display_data",
          "data": {
            "image/png": "[encoded data removed]",
            "text/plain": [
              "<Figure size 432x288 with 1 Axes>"
            ]
          },
          "metadata": {
            "tags": [],
            "needs_background": "light"
          }
        }
      ]
    }
  ]
}